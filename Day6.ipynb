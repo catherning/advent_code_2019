{
 "cells": [
  {
   "cell_type": "code",
   "execution_count": 1,
   "metadata": {},
   "outputs": [],
   "source": [
    "import os\n",
    "import itertools\n",
    "# from anytree import RenderTree, LevelOrderIter\n",
    "from collections import Counter\n",
    "import numpy as np"
   ]
  },
  {
   "cell_type": "code",
   "execution_count": null,
   "metadata": {},
   "outputs": [],
   "source": [
    "class Node:\n",
    "    def __init__(self,name,parent=None,children=None,depth=None,ancestors=None):\n",
    "        self.name = name\n",
    "        self.parent = parent\n",
    "        self.children = children\n",
    "        if depth:\n",
    "            self.depth = depth\n",
    "        if ancestors:\n",
    "            self.ancestors = ancestors\n",
    "        \n",
    "    def __str__(self):\n",
    "        return self.name\n",
    "    \n",
    "    def __repr__(self):\n",
    "        return f\"Node({self.name})\"\n",
    "    \n",
    "    def iterator(self):\n",
    "        \"\"\" iterate tree from self in pre-order depth-first search order \"\"\"\n",
    "        yield self\n",
    "        if self.children:\n",
    "            for child in self.children:             \n",
    "                for n in child.iterator():\n",
    "                    yield n\n",
    "        else:\n",
    "            return\n",
    "        \n",
    "    def findDepth(self):\n",
    "        if hasattr(self,\"depth\"):\n",
    "            return self.depth\n",
    "        depth = self.parent.findDepth()+1\n",
    "        self.depth = depth\n",
    "        \n",
    "        return depth\n",
    "    \n",
    "    def ancestry(self):\n",
    "        if hasattr(self,\"ancestors\"):\n",
    "            return self.ancestors\n",
    "        ancestors = self.parent.ancestry()+[self.parent.name]\n",
    "        self.ancestors = ancestors\n",
    "        \n",
    "        return ancestors"
   ]
  },
  {
   "cell_type": "code",
   "execution_count": null,
   "metadata": {},
   "outputs": [],
   "source": [
    "def nodeFromName(name,tree_names,tree_nodes):\n",
    "    for c_name,node in zip(tree_names,tree_nodes):\n",
    "        if name==c_name:\n",
    "                return node\n",
    "    return None\n",
    "\n",
    "def addChild(parent,child):\n",
    "    if parent.children:\n",
    "        parent.children.append(child)\n",
    "    else:\n",
    "        parent.children = [child]\n",
    "    return parent"
   ]
  },
  {
   "cell_type": "code",
   "execution_count": null,
   "metadata": {},
   "outputs": [],
   "source": [
    "def createTree(orbits):\n",
    "    root = Node(orbits[0][0])\n",
    "    roots = {root}\n",
    "    for i,[center, satellite] in enumerate(orbits):\n",
    "        tree_names = [n.name for r in roots for n in r.iterator()]\n",
    "        tree_nodes = [n for r in roots for n in r.iterator()]\n",
    "        if center in tree_names:\n",
    "            parent = nodeFromName(center,tree_names,tree_nodes)\n",
    "        else:\n",
    "            parent = Node(center)\n",
    "            roots.add(parent)\n",
    "        if satellite in tree_names:\n",
    "            sat = nodeFromName(satellite,tree_names,tree_nodes)\n",
    "            sat.parent = parent\n",
    "        else:\n",
    "            sat = Node(satellite,parent=parent)\n",
    "            \n",
    "        addChild(parent,sat)\n",
    "\n",
    "        while root.parent:\n",
    "            root = root.parent\n",
    "\n",
    "        roots.add(root)\n",
    "        if sat in roots:\n",
    "            roots.remove(sat)\n",
    "            \n",
    "    root.depth=0\n",
    "    root.ancestors=[]\n",
    "    return root"
   ]
  },
  {
   "cell_type": "code",
   "execution_count": null,
   "metadata": {},
   "outputs": [],
   "source": [
    "filename = os.path.join(os.getcwd(),\"d6_input\")\n",
    "with open(filename) as f:\n",
    "    orbits=[orbit.strip().split(\")\") for orbit in f.readlines()]"
   ]
  },
  {
   "cell_type": "code",
   "execution_count": null,
   "metadata": {},
   "outputs": [],
   "source": [
    "# import random\n",
    "# str_input = \"COM)B,B)C,C)D,D)E,E)F,B)G,G)H,D)I,E)J,J)K,K)L,K)YOU,I)SAN\".split(\",\") #,K)YOU,I)SAN\n",
    "# random.shuffle(str_input)\n",
    "# orbits = [orbit.split(\")\") for orbit in str_input]\n",
    "# print(orbits)"
   ]
  },
  {
   "cell_type": "code",
   "execution_count": null,
   "metadata": {},
   "outputs": [],
   "source": [
    "root = createTree(orbits)\n",
    "# print(RenderTree(root))"
   ]
  },
  {
   "cell_type": "code",
   "execution_count": null,
   "metadata": {},
   "outputs": [],
   "source": [
    "def orbitsCount(root):\n",
    "    orbits_sum = 0\n",
    "    for n in root.iterator():\n",
    "        orbits_sum+=n.findDepth()\n",
    "    return orbits_sum\n",
    "\n",
    "orbitsCount(root)"
   ]
  },
  {
   "cell_type": "code",
   "execution_count": null,
   "metadata": {},
   "outputs": [],
   "source": [
    "anc_list =[]\n",
    "for n in root.iterator():\n",
    "    if n.name==\"SAN\" or n.name==\"YOU\":\n",
    "        anc_list.append(n.ancestry())\n",
    "\n",
    "i=0\n",
    "while anc_list[0][i]== anc_list[1][i]:\n",
    "    i+=1\n",
    "len(anc_list[0])+len(anc_list[1])-2*i"
   ]
  },
  {
   "cell_type": "markdown",
   "metadata": {},
   "source": [
    "# Day 7: Amplification Circuit"
   ]
  },
  {
   "cell_type": "code",
   "execution_count": 8,
   "metadata": {},
   "outputs": [],
   "source": [
    "def paraMode(mode,parameter,intcode_program):\n",
    "    if mode ==\"0\":\n",
    "        return intcode_program[parameter]\n",
    "    elif mode==\"1\":\n",
    "        return parameter\n",
    "    else:\n",
    "        raise ValueError(f\"Unknown mode for parameter {parameter}\")\n",
    "        \n",
    "def run_program(intcode,auto_mode=False,inputs=None):\n",
    "    ptr = 0\n",
    "    skip = (4,4,2,2,3,3,4,4)\n",
    "    while intcode[ptr]!=99:\n",
    "        str_opcode = '%05d'%(intcode[ptr])\n",
    "        mode = str_opcode[:-2][::-1]\n",
    "\n",
    "        if str_opcode[-1]=='1':\n",
    "            param = intcode[ptr+1:ptr+4]\n",
    "            intcode[param[2]]=paraMode(mode[0],param[0],intcode) + paraMode(mode[1],param[1],intcode)\n",
    "\n",
    "        elif str_opcode[-1]=='2':\n",
    "            param = intcode[ptr+1:ptr+4]\n",
    "            intcode[param[2]]= paraMode(mode[0],param[0],intcode) * paraMode(mode[1],param[1],intcode)\n",
    "\n",
    "        elif str_opcode[-1]=='3':\n",
    "            if auto_mode:\n",
    "                input_val=inputs[0]\n",
    "                inputs.pop(0)\n",
    "            else:\n",
    "                input_val = input(\"Please write the input value:\")\n",
    "            intcode[intcode[ptr+1]]=int(input_val)\n",
    "\n",
    "        elif str_opcode[-1]=='4': \n",
    "            if auto_mode:\n",
    "                yield paraMode(mode[0],intcode[ptr+1],intcode)\n",
    "            else:\n",
    "                print(paraMode(mode[0],intcode[ptr+1],intcode))\n",
    "        elif str_opcode[-1]=='5':\n",
    "            param = intcode[ptr+1:ptr+3]\n",
    "            true = paraMode(mode[0],param[0],intcode)\n",
    "            ptr = (paraMode(mode[1],param[1],intcode)-3)*(true>0)+ptr*(true<=0)\n",
    "\n",
    "        elif str_opcode[-1]=='6':\n",
    "            param = intcode[ptr+1:ptr+3]\n",
    "            false = paraMode(mode[0],param[0],intcode)\n",
    "            ptr = (paraMode(mode[1],param[1],intcode)-3)*(false<=0)+ptr*(false>0)\n",
    "            \n",
    "        elif str_opcode[-1]=='7':\n",
    "            param = intcode[ptr+1:ptr+4]\n",
    "            less_than=paraMode(mode[0],param[0],intcode)<paraMode(mode[1],param[1],intcode)\n",
    "            intcode[intcode[ptr+3]]=1*less_than\n",
    "\n",
    "        elif str_opcode[-1]=='8':\n",
    "            param = intcode[ptr+1:ptr+4]\n",
    "            equal = (paraMode(mode[0],param[0],intcode)==paraMode(mode[1],param[1],intcode))\n",
    "            intcode[intcode[ptr+3]]=1*equal\n",
    "\n",
    "        else:\n",
    "            raise ValueError(f\"Something went wrong. Opcode is {intcode[i]} at index {i} for the current program {intcode}\")\n",
    "        \n",
    "        ptr += skip[int(str_opcode[-1])-1]\n",
    "        \n",
    "    yield None"
   ]
  },
  {
   "cell_type": "code",
   "execution_count": 11,
   "metadata": {},
   "outputs": [],
   "source": [
    "filename = os.path.join(os.getcwd(),\"d7_input\")\n",
    "with open(filename) as f:\n",
    "    initial_program = [int(opcode) for opcode in f.read().split(\",\")]    \n",
    "    \n",
    "# initial_program = [3,15,3,16,1002,16,10,16,1,16,15,15,4,15,99,0,0]\n",
    "# initial_program = [3,23,3,24,1002,24,10,24,1002,23,-1,23,101,5,23,23,1,24,23,23,4,23,99,0,0]\n",
    "# initial_program = [3,31,3,32,1002,32,10,32,1001,31,-2,31,1007,31,0,33,1002,33,7,33,1,33,31,31,1,32,31,31,4,31,99,0,0,0]"
   ]
  },
  {
   "cell_type": "code",
   "execution_count": 12,
   "metadata": {},
   "outputs": [
    {
     "data": {
      "text/plain": [
       "844468"
      ]
     },
     "execution_count": 12,
     "metadata": {},
     "output_type": "execute_result"
    }
   ],
   "source": [
    "# Q1\n",
    "def maxThrusterSignal(initial_program):\n",
    "    max_thruster_signal=0\n",
    "    for seq in list(itertools.permutations(range(5))):\n",
    "        inp = 0\n",
    "        for phase in seq:\n",
    "            inputs = [phase,inp]\n",
    "            inp = next(run_program(initial_program[:],auto_mode=True,inputs=inputs))\n",
    "        max_thruster_signal=max(max_thruster_signal,inp)\n",
    "    return max_thruster_signal\n",
    "        \n",
    "max_thruster_signal = maxThrusterSignal(initial_program)\n",
    "max_thruster_signal"
   ]
  },
  {
   "cell_type": "code",
   "execution_count": 13,
   "metadata": {},
   "outputs": [],
   "source": [
    "# Q2\n",
    "\n",
    "# initial_program = [3,26,1001,26,-4,26,3,27,1002,27,2,27,1,27,26,27,4,27,1001,28,-1,28,1005,28,6,99,0,0,5]\n",
    "# seq = [9,8,7,6,5]\n",
    "\n",
    "# initial_program = [3,52,1001,52,-5,52,3,53,1,52,56,54,1007,54,5,55,1005,55,26,1001,54,\n",
    "# -5,54,1105,1,12,1,53,54,53,1008,54,0,55,1001,55,1,55,2,53,55,53,4,\n",
    "# 53,1001,56,-1,56,1005,56,6,99,0,0,0,0,10]\n",
    "# seq= [9,7,8,5,6]"
   ]
  },
  {
   "cell_type": "code",
   "execution_count": 14,
   "metadata": {},
   "outputs": [
    {
     "data": {
      "text/plain": [
       "4215746"
      ]
     },
     "execution_count": 14,
     "metadata": {},
     "output_type": "execute_result"
    }
   ],
   "source": [
    "def maxThrusterSignalFeedback(initial_program):\n",
    "    max_signal = 0\n",
    "    for seq in list(itertools.permutations(range(5,10))):\n",
    "        inputs= [[phase] for phase in seq]\n",
    "        inputs[0].append(0)\n",
    "        amps = [run_program(initial_program[:],auto_mode=True,inputs=inp) for inp in inputs]\n",
    "\n",
    "        cur_amp=0\n",
    "        out = -1\n",
    "        while out is not None:\n",
    "            last_out = out\n",
    "            out = next(amps[cur_amp])\n",
    "            if out is None:\n",
    "                break\n",
    "            inputs[(cur_amp+1)%5].append(out)\n",
    "            cur_amp = (cur_amp+1)%5\n",
    "        max_signal=max(max_signal,last_out)\n",
    "    return max_signal\n",
    "\n",
    "max_signal = maxThrusterSignalFeedback(initial_program)\n",
    "max_signal"
   ]
  },
  {
   "cell_type": "markdown",
   "metadata": {},
   "source": [
    "# Day 8: Space Image Format"
   ]
  },
  {
   "cell_type": "code",
   "execution_count": 65,
   "metadata": {},
   "outputs": [
    {
     "data": {
      "text/plain": [
       "array([[2, 2, 2, ..., 2, 2, 2],\n",
       "       [2, 2, 2, ..., 2, 2, 2],\n",
       "       [2, 2, 2, ..., 2, 2, 2],\n",
       "       ...,\n",
       "       [2, 2, 0, ..., 0, 0, 1],\n",
       "       [2, 2, 2, ..., 2, 1, 0],\n",
       "       [0, 1, 2, ..., 2, 0, 1]])"
      ]
     },
     "execution_count": 65,
     "metadata": {},
     "output_type": "execute_result"
    }
   ],
   "source": [
    "height,width = 6,25\n",
    "size=height*width\n",
    "\n",
    "filename = os.path.join(os.getcwd(),\"d8_input\")\n",
    "with open(filename) as f:\n",
    "    data =f.read()\n",
    "nb_layers = len(data)//(width*height)\n",
    "\n",
    "picture = np.array([data[k*size:(k+1)*size] for k in range(nb_layers)])\n",
    "int_picture = np.array([[int(data[k*size+i]) for i in range(size)] for k in range(nb_layers)])\n",
    "int_picture"
   ]
  },
  {
   "cell_type": "code",
   "execution_count": 66,
   "metadata": {},
   "outputs": [
    {
     "data": {
      "text/plain": [
       "array([[2, 2, 2, ..., 2, 2, 2],\n",
       "       [2, 2, 2, ..., 2, 2, 2],\n",
       "       [2, 2, 2, ..., 2, 2, 2],\n",
       "       ...,\n",
       "       [2, 2, 0, ..., 0, 0, 1],\n",
       "       [2, 2, 2, ..., 2, 1, 0],\n",
       "       [0, 1, 2, ..., 2, 0, 1]])"
      ]
     },
     "execution_count": 66,
     "metadata": {},
     "output_type": "execute_result"
    }
   ],
   "source": [
    "def checkCorruption(picture):\n",
    "    count_layers=[]\n",
    "    for i in range(nb_layers):\n",
    "        count_layers.append(Counter(picture[i]))\n",
    "\n",
    "    min_zeros_count=min(count_layers,key=lambda c:c['0'])\n",
    "    return (min_zeros_count[\"1\"]*min_zeros_count[\"2\"])\n",
    "\n",
    "checkCorruption(picture)"
   ]
  },
  {
   "cell_type": "code",
   "execution_count": 79,
   "metadata": {},
   "outputs": [],
   "source": [
    "def mergeTwoLayers(l1,l2):\n",
    "    out= l1\n",
    "    for i,(d1,d2) in enumerate(zip(l1,l2)):\n",
    "        if d1==2:\n",
    "            out[i]=d2\n",
    "    return out\n",
    "\n",
    "def mergeLayers(picture):\n",
    "    first_layer=picture[0]\n",
    "    for l in picture[1:]:\n",
    "        first_layer = mergeTwoLayers(first_layer,l)\n",
    "    return first_layer\n",
    "\n",
    "image=mergeLayers(int_picture).reshape(height,width)"
   ]
  },
  {
   "cell_type": "code",
   "execution_count": 80,
   "metadata": {},
   "outputs": [],
   "source": [
    "import matplotlib.pyplot as plt\n",
    "import matplotlib.cm as cm\n",
    "import numpy as np\n",
    "plt.imsave('d8_password.png',image, cmap=cm.gray)"
   ]
  },
  {
   "cell_type": "markdown",
   "metadata": {},
   "source": [
    "# Day 9: Sensor Boost"
   ]
  },
  {
   "cell_type": "code",
   "execution_count": 10,
   "metadata": {},
   "outputs": [],
   "source": [
    "def run_program(intcode,auto_mode=False,inputs=None):\n",
    "    ptr = 0\n",
    "    relative_base = 0\n",
    "    skip = (4,4,2,2,3,3,4,4,2)\n",
    "    \n",
    "    \n",
    "    def paraMode(mode,parameter,write=False):\n",
    "        if mode ==\"0\": # positional\n",
    "            return intcode[parameter]*(1-write) + parameter*write\n",
    "        elif mode==\"1\": # direct\n",
    "            return parameter\n",
    "        elif mode==\"2\":\n",
    "            return intcode[relative_base+parameter]*(1-write) + (relative_base+parameter)*write\n",
    "        else:\n",
    "            raise ValueError(f\"Unknown mode for parameter {parameter}\")\n",
    "    \n",
    "    \n",
    "    \n",
    "    while intcode[ptr]!=99:\n",
    "        str_opcode = '%05d'%(intcode[ptr])\n",
    "        mode = str_opcode[:-2][::-1] # reverse the modes: first mode for first param etc\n",
    "        \n",
    "        # add\n",
    "        if str_opcode[-1]=='1':\n",
    "            param = intcode[ptr+1:ptr+4]\n",
    "#             print(param,mode,paraMode(mode[2],param[2],write=True))\n",
    "            intcode[paraMode(mode[2],param[2],write=True)]=paraMode(mode[0],param[0]) + paraMode(mode[1],param[1])\n",
    "        \n",
    "        # multiply\n",
    "        elif str_opcode[-1]=='2':\n",
    "            param = intcode[ptr+1:ptr+4]\n",
    "            intcode[paraMode(mode[2],param[2],write=True)]= paraMode(mode[0],param[0]) * paraMode(mode[1],param[1])\n",
    "        \n",
    "        # input\n",
    "        elif str_opcode[-1]=='3':\n",
    "            if auto_mode:\n",
    "                input_val=inputs[0]\n",
    "                inputs.pop(0)\n",
    "            else:\n",
    "                input_val = input(\"Please write the input value:\")\n",
    "            intcode[paraMode(mode[0],intcode[ptr+1],write=True)]=int(input_val)\n",
    "        \n",
    "        # output\n",
    "        elif str_opcode[-1]=='4': \n",
    "            if auto_mode:\n",
    "                yield paraMode(mode[0],intcode[ptr+1])\n",
    "            else:\n",
    "                print(paraMode(mode[0],intcode[ptr+1]))\n",
    "                \n",
    "        # jump if true\n",
    "        elif str_opcode[-1]=='5':\n",
    "            param = intcode[ptr+1:ptr+3]\n",
    "            true = paraMode(mode[0],param[0])\n",
    "            ptr = (paraMode(mode[1],param[1])-3)*(true>0)+ptr*(true<=0)\n",
    "        \n",
    "        # jump if false\n",
    "        elif str_opcode[-1]=='6':\n",
    "            param = intcode[ptr+1:ptr+3]\n",
    "            false = paraMode(mode[0],param[0])\n",
    "            ptr = (paraMode(mode[1],param[1])-3)*(false<=0)+ptr*(false>0)\n",
    "        \n",
    "        # less than\n",
    "        elif str_opcode[-1]=='7':\n",
    "            param = intcode[ptr+1:ptr+4]\n",
    "            less_than=paraMode(mode[0],param[0])<paraMode(mode[1],param[1])\n",
    "            intcode[paraMode(mode[2],param[2],write=True)]=1*less_than\n",
    "        \n",
    "        # equal\n",
    "        elif str_opcode[-1]=='8':\n",
    "            param = intcode[ptr+1:ptr+4]\n",
    "            equal = (paraMode(mode[0],param[0])==paraMode(mode[1],param[1]))\n",
    "            intcode[paraMode(mode[2],param[2],write=True)]=1*equal\n",
    "        \n",
    "        # change relative base\n",
    "        elif str_opcode[-1]=='9':\n",
    "            param = intcode[ptr+1]\n",
    "            relative_base += paraMode(mode[0],param)\n",
    "\n",
    "        else:\n",
    "            raise ValueError(f\"Something went wrong. Opcode is {intcode[ptr]} at index {ptr} for the current program\")\n",
    "        \n",
    "        ptr += skip[int(str_opcode[-1])-1]\n",
    "        \n",
    "    yield None"
   ]
  },
  {
   "cell_type": "code",
   "execution_count": 21,
   "metadata": {},
   "outputs": [],
   "source": [
    "filename = os.path.join(os.getcwd(),\"d9_input\")\n",
    "with open(filename) as f:\n",
    "    initial_program = [int(opcode) for opcode in f.read().split(\",\")]\n",
    "    \n",
    "# initial_program = [109,1,204,-1,1001,100,1,100,1008,100,16,101,1006,101,0,99]\n",
    "# initial_program = [1102,34915192,34915192,7,4,7,99,0]\n",
    "# initial_program = [104,1125899906842624,99]\n",
    "initial_program+=[0]*10000"
   ]
  },
  {
   "cell_type": "code",
   "execution_count": 22,
   "metadata": {},
   "outputs": [
    {
     "name": "stdout",
     "output_type": "stream",
     "text": [
      "Please write the input value:2\n",
      "82760\n"
     ]
    }
   ],
   "source": [
    "next(run_program(initial_program[:]))"
   ]
  },
  {
   "cell_type": "code",
   "execution_count": null,
   "metadata": {},
   "outputs": [],
   "source": []
  }
 ],
 "metadata": {
  "kernelspec": {
   "display_name": "Python 3",
   "language": "python",
   "name": "python3"
  },
  "language_info": {
   "codemirror_mode": {
    "name": "ipython",
    "version": 3
   },
   "file_extension": ".py",
   "mimetype": "text/x-python",
   "name": "python",
   "nbconvert_exporter": "python",
   "pygments_lexer": "ipython3",
   "version": "3.6.5"
  }
 },
 "nbformat": 4,
 "nbformat_minor": 2
}

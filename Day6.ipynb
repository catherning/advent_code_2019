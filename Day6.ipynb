{
 "cells": [
  {
   "cell_type": "code",
   "execution_count": 1,
   "metadata": {},
   "outputs": [],
   "source": [
    "import os\n",
    "from anytree import RenderTree, AsciiStyle, LevelOrderIter"
   ]
  },
  {
   "cell_type": "code",
   "execution_count": 10,
   "metadata": {},
   "outputs": [],
   "source": [
    "class Node:\n",
    "    def __init__(self,name,parent=None,children=None,depth=None,ancestors=None):\n",
    "        self.name = name\n",
    "        self.parent = parent\n",
    "        self.children = children\n",
    "        if depth:\n",
    "            self.depth = depth\n",
    "        if ancestors:\n",
    "            self.ancestors = ancestors\n",
    "        \n",
    "    def __str__(self):\n",
    "        return self.name\n",
    "    \n",
    "    def __repr__(self):\n",
    "        return f\"Node({self.name})\"\n",
    "    \n",
    "    def iterator(self):\n",
    "        \"\"\" iterate tree from self in pre-order depth-first search order \"\"\"\n",
    "        yield self\n",
    "        if self.children:\n",
    "            for child in self.children:             \n",
    "                for n in child.iterator():\n",
    "                    yield n\n",
    "        else:\n",
    "            return\n",
    "        \n",
    "    def findDepth(self):\n",
    "        if hasattr(self,\"depth\"):\n",
    "            return self.depth\n",
    "        depth = self.parent.findDepth()+1\n",
    "        self.depth = depth\n",
    "        \n",
    "        return depth\n",
    "    \n",
    "    def ancestry(self):\n",
    "        if hasattr(self,\"ancestors\"):\n",
    "            return self.ancestors\n",
    "        ancestors = self.parent.ancestry()+[self.parent.name]\n",
    "        self.ancestors = ancestors\n",
    "        \n",
    "        return ancestors"
   ]
  },
  {
   "cell_type": "code",
   "execution_count": 11,
   "metadata": {},
   "outputs": [],
   "source": [
    "def nodeFromName(name,tree_names,tree_nodes):\n",
    "    for c_name,node in zip(tree_names,tree_nodes):\n",
    "        if name==c_name:\n",
    "                return node\n",
    "    return None\n",
    "\n",
    "def addChild(parent,child):\n",
    "    if parent.children:\n",
    "        parent.children.append(child)\n",
    "    else:\n",
    "        parent.children = [child]\n",
    "    return parent"
   ]
  },
  {
   "cell_type": "code",
   "execution_count": 12,
   "metadata": {},
   "outputs": [],
   "source": [
    "def createTree(orbits):\n",
    "    root = Node(orbits[0][0])\n",
    "    roots = {root}\n",
    "    for i,[center, satellite] in enumerate(orbits):\n",
    "        tree_names = [n.name for r in roots for n in r.iterator()]\n",
    "        tree_nodes = [n for r in roots for n in r.iterator()]\n",
    "        if (center in tree_names) and (satellite not in tree_names):\n",
    "            parent = nodeFromName(center,tree_names,tree_nodes)\n",
    "            sat = Node(satellite,parent=parent)\n",
    "\n",
    "        elif (center not in tree_names) and (satellite in tree_names):\n",
    "            parent = Node(center)\n",
    "            sat = nodeFromName(satellite,tree_names,tree_nodes)\n",
    "            sat.parent = parent\n",
    "            roots.add(parent)\n",
    "        elif (center in tree_names) and (satellite in tree_names):\n",
    "            parent = nodeFromName(center,tree_names,tree_nodes)\n",
    "            sat = nodeFromName(satellite,tree_names,tree_nodes)\n",
    "            sat.parent = parent\n",
    "        else:\n",
    "            parent = Node(center)\n",
    "            sat = Node(satellite,parent=parent)\n",
    "            roots.add(parent)\n",
    "        addChild(parent,sat)\n",
    "\n",
    "        while root.parent:\n",
    "            root = root.parent\n",
    "\n",
    "        roots.add(root)\n",
    "        if sat in roots:\n",
    "            roots.remove(sat)\n",
    "            \n",
    "    root.depth=0\n",
    "    root.ancestors=[]\n",
    "    return root"
   ]
  },
  {
   "cell_type": "code",
   "execution_count": 13,
   "metadata": {},
   "outputs": [],
   "source": [
    "filename = os.path.join(os.getcwd(),\"d6_input\")\n",
    "with open(filename) as f:\n",
    "    orbits=[orbit.strip().split(\")\") for orbit in f.readlines()]"
   ]
  },
  {
   "cell_type": "code",
   "execution_count": 14,
   "metadata": {},
   "outputs": [
    {
     "name": "stdout",
     "output_type": "stream",
     "text": [
      "[['I', 'SAN'], ['B', 'G'], ['COM', 'B'], ['G', 'H'], ['E', 'F'], ['B', 'C'], ['D', 'E'], ['J', 'K'], ['D', 'I'], ['K', 'YOU'], ['E', 'J'], ['C', 'D'], ['K', 'L']]\n"
     ]
    }
   ],
   "source": [
    "import random\n",
    "str_input = \"COM)B,B)C,C)D,D)E,E)F,B)G,G)H,D)I,E)J,J)K,K)L,K)YOU,I)SAN\".split(\",\")\n",
    "random.shuffle(str_input)\n",
    "orbits = [orbit.split(\")\") for orbit in str_input]\n",
    "print(orbits)"
   ]
  },
  {
   "cell_type": "code",
   "execution_count": 15,
   "metadata": {},
   "outputs": [],
   "source": [
    "root = createTree(orbits)\n",
    "# print(RenderTree(root))"
   ]
  },
  {
   "cell_type": "code",
   "execution_count": 16,
   "metadata": {},
   "outputs": [
    {
     "data": {
      "text/plain": [
       "54"
      ]
     },
     "execution_count": 16,
     "metadata": {},
     "output_type": "execute_result"
    }
   ],
   "source": [
    "def orbitsCount(root):\n",
    "    orbits_sum = 0\n",
    "    for n in root.iterator():\n",
    "        orbits_sum+=n.findDepth()\n",
    "    return orbits_sum\n",
    "\n",
    "orbitsCount(root)"
   ]
  },
  {
   "cell_type": "code",
   "execution_count": 27,
   "metadata": {},
   "outputs": [
    {
     "name": "stdout",
     "output_type": "stream",
     "text": [
      "[['COM', 'B', 'C', 'D', 'E', 'J', 'K'], ['COM', 'B', 'C', 'D', 'I']]\n",
      "4\n"
     ]
    },
    {
     "data": {
      "text/plain": [
       "0"
      ]
     },
     "execution_count": 27,
     "metadata": {},
     "output_type": "execute_result"
    }
   ],
   "source": [
    "anc_list =[]\n",
    "for n in root.iterator():\n",
    "    if n.name==\"SAN\" or n.name==\"YOU\":\n",
    "        anc_list.append(n.ancestry())\n",
    "\n",
    "i=0\n",
    "while anc_list[0][i]== anc_list[1][i]:\n",
    "    i+=1\n",
    "print(anc_list)\n",
    "print(i)\n",
    "len(anc_list[0])+len(anc_list[1][i])-2*i"
   ]
  },
  {
   "cell_type": "code",
   "execution_count": 26,
   "metadata": {},
   "outputs": [
    {
     "data": {
      "text/plain": [
       "1"
      ]
     },
     "execution_count": 26,
     "metadata": {},
     "output_type": "execute_result"
    }
   ],
   "source": [
    "len(anc_list[1])-i"
   ]
  },
  {
   "cell_type": "code",
   "execution_count": null,
   "metadata": {},
   "outputs": [],
   "source": []
  }
 ],
 "metadata": {
  "kernelspec": {
   "display_name": "Python 3",
   "language": "python",
   "name": "python3"
  },
  "language_info": {
   "codemirror_mode": {
    "name": "ipython",
    "version": 3
   },
   "file_extension": ".py",
   "mimetype": "text/x-python",
   "name": "python",
   "nbconvert_exporter": "python",
   "pygments_lexer": "ipython3",
   "version": "3.6.5"
  }
 },
 "nbformat": 4,
 "nbformat_minor": 2
}

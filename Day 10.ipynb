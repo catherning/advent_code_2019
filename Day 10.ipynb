{
 "cells": [
  {
   "cell_type": "markdown",
   "metadata": {},
   "source": [
    "# Day 10: Monitoring Station"
   ]
  },
  {
   "cell_type": "code",
   "execution_count": 1,
   "metadata": {},
   "outputs": [],
   "source": [
    "import scipy.sparse as sparse\n",
    "import numpy as np\n",
    "from copy import copy,deepcopy\n",
    "import math\n",
    "import os"
   ]
  },
  {
   "cell_type": "code",
   "execution_count": 78,
   "metadata": {},
   "outputs": [],
   "source": [
    "class Point:\n",
    "    def __init__(self,i=None,j=None,coord=None):\n",
    "        if i is not None:\n",
    "            self.i = i\n",
    "            self.j = j\n",
    "        else:\n",
    "            self.i = coord[0]\n",
    "            self.j = coord[1]\n",
    "\n",
    "    def __str__(self):\n",
    "        return f\"Point({self.i},{self.j})\"\n",
    "    \n",
    "    def __repr__(self):\n",
    "        return f\"Point({self.i},{self.j})\"\n",
    "    \n",
    "    def __mul__(self,int_):\n",
    "        return Point(i=self.i*int_,j=self.j*int_)\n",
    "    \n",
    "    def __add__(self,point):\n",
    "        return Point(i=self.i+point.i,j=self.j+point.j)\n",
    "    \n",
    "    def __eq__(self,point):\n",
    "        return self.i==point.i and self.j==point.j\n",
    "\n",
    "    def vector(self,other_point,normalize=False):\n",
    "        try:\n",
    "            coord=(other_point.i-self.i,other_point.j-self.j)\n",
    "            if normalize:\n",
    "                norm = math.gcd(coord[0],coord[1])\n",
    "                coord = (int(coord[0]/norm),int(coord[1]/norm))\n",
    "        except ValueError:\n",
    "            raise(\"ValueError: The two points have the same coord!\",self)\n",
    "            \n",
    "        return Point(coord=coord)\n",
    "    \n",
    "    def manhattanDistance(self,other_point):\n",
    "        return abs(self.j-other_point.j)+abs(self.i-other_point.i)\n",
    "\n",
    "class Map:\n",
    "    def __init__(self,file=None,data=None):\n",
    "        \n",
    "        if file is not None:\n",
    "            with open(filename) as f:\n",
    "                data = f.read().split(\"\\n\")\n",
    "                if len(data[-1])==0:\n",
    "                    print(\"Delete last empty row\")\n",
    "                    data= data[:-1]\n",
    "                \n",
    "        self.map = []\n",
    "        for line in data:\n",
    "            self.map.append([1 if char==\"#\" else 0 for char in line ])\n",
    "        self.map=np.array(self.map)\n",
    "        \n",
    "        self.satellites_coord = [Point(coord=coord) for coord in np.argwhere(self.map==1)]\n",
    "        self.size = self.map.shape\n",
    "        \n",
    "    def __str__(self):\n",
    "        return str(self.map)\n",
    "    \n",
    "    def __repr__(self):\n",
    "        return str(self.map)\n",
    "\n",
    "    def bestStation(self):\n",
    "        max_seen=0\n",
    "        best_station=None\n",
    "        for i,station in enumerate(self.satellites_coord):\n",
    "            hidden_set = set()\n",
    "            for j,ast in enumerate(self.satellites_coord):\n",
    "                if i==j:\n",
    "                    continue\n",
    "                    \n",
    "                direction=station.vector(ast,normalize=True)\n",
    "                cur_point = ast+ direction\n",
    "\n",
    "                while cur_point.i<self.size[0]  and cur_point.j<self.size[1] and cur_point.i>=0  and cur_point.j>=0:\n",
    "                    hidden,idx=self.checkHidden(cur_point)\n",
    "                    if hidden:\n",
    "                        hidden_set.add(idx)\n",
    "                    cur_point+=direction\n",
    "\n",
    "            visible = len(self.satellites_coord)-len(hidden_set)-1\n",
    "            if visible>max_seen:\n",
    "                max_seen=visible\n",
    "                best_station=(i,station)\n",
    "        \n",
    "        self.station=best_station[1]\n",
    "        self.station_idx=best_station[0]\n",
    "        self.map[self.station.i,self.station.j]=2\n",
    "        print(f\"Max: Best station at coordinates {best_station[1]} with {max_seen} visible asteroids\")\n",
    "        \n",
    "    \n",
    "    def checkHidden(self,coord):\n",
    "        for idx,point in enumerate(self.satellites_coord):\n",
    "            if coord==point:\n",
    "                return True,idx\n",
    "        return False,None  \n"
   ]
  },
  {
   "cell_type": "code",
   "execution_count": 170,
   "metadata": {},
   "outputs": [],
   "source": [
    "# filename = os.path.join(os.getcwd(),\"d10_input\")\n",
    "filename = os.path.join(os.getcwd(),\"d10_t1\")\n",
    "map_=Map(filename)\n",
    "map_=Map(data=[\".#..#\",\".....\",\"#####\",\"....#\",\"...##\"])\n",
    "# map_=Map(data=[\"......#.#.\",\"#..#.#....\",\"..#######.\",\".#.#.###..\",\".#..#.....\",\"..#....#.#\",\"#..#....#.\",\".##.#..###\",\"##...#..#.\",\".#....####\"])"
   ]
  },
  {
   "cell_type": "code",
   "execution_count": 171,
   "metadata": {},
   "outputs": [
    {
     "name": "stdout",
     "output_type": "stream",
     "text": [
      "Max: Best station at coordinates Point(4,3) with 8 visible asteroids\n"
     ]
    }
   ],
   "source": [
    "map_.bestStation()"
   ]
  },
  {
   "cell_type": "code",
   "execution_count": 172,
   "metadata": {},
   "outputs": [
    {
     "data": {
      "text/plain": [
       "[[0 1 0 0 1]\n",
       " [0 0 0 0 0]\n",
       " [1 1 1 1 1]\n",
       " [0 0 0 0 1]\n",
       " [0 0 0 2 1]]"
      ]
     },
     "execution_count": 172,
     "metadata": {},
     "output_type": "execute_result"
    }
   ],
   "source": [
    "map_"
   ]
  },
  {
   "cell_type": "code",
   "execution_count": 185,
   "metadata": {},
   "outputs": [],
   "source": [
    "def angle_between(vector1,vector2):\n",
    "    \"\"\" Returns the angle in radians between vectors 'v1' and 'v2'::\n",
    "\n",
    "            >>> angle_between((1, 0, 0), (0, 1, 0))\n",
    "            1.5707963267948966\n",
    "            >>> angle_between((1, 0, 0), (1, 0, 0))\n",
    "            0.0\n",
    "            >>> angle_between((1, 0, 0), (-1, 0, 0))\n",
    "            3.141592653589793\n",
    "    \"\"\"\n",
    "    return -math.atan2(vector1.j - vector2.j, vector1.i - vector2.i)"
   ]
  },
  {
   "cell_type": "code",
   "execution_count": 186,
   "metadata": {},
   "outputs": [
    {
     "ename": "IndexError",
     "evalue": "list index out of range",
     "output_type": "error",
     "traceback": [
      "\u001b[1;31m---------------------------------------------------------------------------\u001b[0m",
      "\u001b[1;31mIndexError\u001b[0m                                Traceback (most recent call last)",
      "\u001b[1;32m<ipython-input-186-e9c0e836aa52>\u001b[0m in \u001b[0;36m<module>\u001b[1;34m()\u001b[0m\n\u001b[1;32m----> 1\u001b[1;33m \u001b[0mast\u001b[0m\u001b[1;33m=\u001b[0m\u001b[0mmap_\u001b[0m\u001b[1;33m.\u001b[0m\u001b[0msatellites_coord\u001b[0m\u001b[1;33m[\u001b[0m\u001b[1;36m12\u001b[0m\u001b[1;33m]\u001b[0m\u001b[1;33m\u001b[0m\u001b[0m\n\u001b[0m\u001b[0;32m      2\u001b[0m \u001b[0mvect\u001b[0m\u001b[1;33m=\u001b[0m\u001b[0mmap_\u001b[0m\u001b[1;33m.\u001b[0m\u001b[0mstation\u001b[0m\u001b[1;33m.\u001b[0m\u001b[0mvector\u001b[0m\u001b[1;33m(\u001b[0m\u001b[0mast\u001b[0m\u001b[1;33m)\u001b[0m\u001b[1;33m\u001b[0m\u001b[0m\n\u001b[0;32m      3\u001b[0m \u001b[0mang\u001b[0m\u001b[1;33m=\u001b[0m\u001b[0mangle_between\u001b[0m\u001b[1;33m(\u001b[0m\u001b[0mvect\u001b[0m\u001b[1;33m,\u001b[0m\u001b[0mmap_\u001b[0m\u001b[1;33m.\u001b[0m\u001b[0mbegin_vect\u001b[0m\u001b[1;33m)\u001b[0m\u001b[1;33m\u001b[0m\u001b[0m\n\u001b[0;32m      4\u001b[0m \u001b[0mang\u001b[0m\u001b[1;33m\u001b[0m\u001b[0m\n\u001b[0;32m      5\u001b[0m \u001b[1;31m# -math.atan2(9,1)\u001b[0m\u001b[1;33m\u001b[0m\u001b[1;33m\u001b[0m\u001b[0m\n",
      "\u001b[1;31mIndexError\u001b[0m: list index out of range"
     ]
    }
   ],
   "source": [
    "ast=map_.satellites_coord[12]\n",
    "vect=map_.station.vector(ast)\n",
    "ang=angle_between(vect,map_.begin_vect)\n",
    "ang\n",
    "# -math.atan2(9,1)"
   ]
  },
  {
   "cell_type": "code",
   "execution_count": 187,
   "metadata": {},
   "outputs": [
    {
     "data": {
      "text/plain": [
       "-3.141592653589793"
      ]
     },
     "execution_count": 187,
     "metadata": {},
     "output_type": "execute_result"
    }
   ],
   "source": [
    "ast=map_.satellites_coord[5]\n",
    "vect=map_.station.vector(ast)\n",
    "ang=angle_between(vect,map_.begin_vect)\n",
    "ang\n",
    "# -math.atan2(10,2)"
   ]
  },
  {
   "cell_type": "code",
   "execution_count": 188,
   "metadata": {},
   "outputs": [
    {
     "data": {
      "text/plain": [
       "[Point(0,1),\n",
       " Point(0,4),\n",
       " Point(2,0),\n",
       " Point(2,1),\n",
       " Point(2,2),\n",
       " Point(2,3),\n",
       " Point(2,4),\n",
       " Point(3,4),\n",
       " Point(4,3),\n",
       " Point(4,4)]"
      ]
     },
     "execution_count": 188,
     "metadata": {},
     "output_type": "execute_result"
    }
   ],
   "source": [
    "map_.satellites_coord"
   ]
  },
  {
   "cell_type": "code",
   "execution_count": 190,
   "metadata": {},
   "outputs": [
    {
     "data": {
      "text/plain": [
       "array([[ 0.  ,  2.36,  0.  ,  0.  , -2.82],\n",
       "       [ 0.  ,  0.  ,  0.  ,  0.  ,  0.  ],\n",
       "       [ 1.89,  1.57,  2.36, -5.  , -2.36],\n",
       "       [ 0.  ,  0.  ,  0.  ,  0.  , -1.57],\n",
       "       [ 0.  ,  0.  ,  0.  ,  3.  , -0.79]])"
      ]
     },
     "execution_count": 190,
     "metadata": {},
     "output_type": "execute_result"
    }
   ],
   "source": [
    "ast2StationVect=[]\n",
    "map_.begin_vect = Point(i=-1,j=0)\n",
    "map_angle=np.zeros(map_.size)\n",
    "\n",
    "for ast in map_.satellites_coord:\n",
    "    if ast==map_.station:\n",
    "        continue\n",
    "\n",
    "    vect=map_.station.vector(ast,normalize=True)\n",
    "    ang=angle_between(vect,map_.begin_vect)\n",
    "    if ang==0:\n",
    "        ang=-5\n",
    "    ast2StationVect.append((ast,map_.station.vector(ast),ang))\n",
    "    map_angle[ast.i,ast.j]=float(\"{0:.2f}\".format(ang))\n",
    "map_angle[map_.station.i,map_.station.j]=3\n",
    "map_angle"
   ]
  },
  {
   "cell_type": "code",
   "execution_count": 191,
   "metadata": {},
   "outputs": [
    {
     "data": {
      "image/png": "[encoded data removed]",
      "text/plain": [
       "<Figure size 432x288 with 2 Axes>"
      ]
     },
     "metadata": {},
     "output_type": "display_data"
    }
   ],
   "source": [
    "%matplotlib inline\n",
    "import numpy as np\n",
    "import matplotlib.pyplot as plt\n",
    "\n",
    "fig, ax = plt.subplots()\n",
    "im = ax.imshow(map_angle, interpolation='nearest')\n",
    "fig.colorbar(im)\n",
    "plt.show()"
   ]
  },
  {
   "cell_type": "code",
   "execution_count": 192,
   "metadata": {},
   "outputs": [],
   "source": [
    "ast2StationVect.sort(key=lambda x: x[2])"
   ]
  },
  {
   "cell_type": "code",
   "execution_count": 161,
   "metadata": {},
   "outputs": [
    {
     "data": {
      "text/plain": [
       "{-5: [(Point(1,8), 2), (Point(0,8), 3)],\n",
       " -2.677945044588987: [(Point(0,9), 4)],\n",
       " -2.356194490192345: [(Point(1,9), 3), (Point(0,10), 5)],\n",
       " -1.892546881191539: [(Point(1,11), 5)],\n",
       " -1.7126933813990606: [(Point(1,15), 9)],\n",
       " -1.5707963267948966: [(Point(2,9), 2),\n",
       "  (Point(1,10), 4),\n",
       "  (Point(2,11), 4),\n",
       "  (Point(2,12), 5),\n",
       "  (Point(1,12), 6),\n",
       "  (Point(2,13), 6),\n",
       "  (Point(2,14), 7),\n",
       "  (Point(2,15), 8),\n",
       "  (Point(0,14), 9),\n",
       "  (Point(1,16), 10)],\n",
       " -1.3258176636680326: [(Point(4,16), 9)],\n",
       " -1.2924966677897853: [(Point(4,15), 8)],\n",
       " -0.7853981633974483: [(Point(4,10), 3),\n",
       "  (Point(3,12), 4),\n",
       "  (Point(3,13), 5),\n",
       "  (Point(3,14), 6)],\n",
       " 0.7853981633974483: [(Point(3,2), 6)],\n",
       " 1.1071487177940904: [(Point(4,4), 5)],\n",
       " 1.2490457723982544: [(Point(4,2), 7)],\n",
       " 1.5707963267948966: [(Point(1,6), 4),\n",
       "  (Point(2,5), 4),\n",
       "  (Point(2,1), 8),\n",
       "  (Point(2,0), 9),\n",
       "  (Point(1,0), 10)],\n",
       " 1.7126933813990606: [(Point(1,1), 9)],\n",
       " 1.849095985800008: [(Point(0,1), 10)],\n",
       " 1.892546881191539: [(Point(1,5), 5)],\n",
       " 2.356194490192345: [(Point(0,6), 5)],\n",
       " 2.677945044588987: [(Point(0,7), 4)]}"
      ]
     },
     "execution_count": 161,
     "metadata": {},
     "output_type": "execute_result"
    }
   ],
   "source": [
    "ang_values = set()\n",
    "aligned_dict={}\n",
    "for tup in ast2StationVect:\n",
    "    dist = map_.station.manhattanDistance(tup[0])\n",
    "    if tup[2] in ang_values:\n",
    "        aligned_dict[tup[2]].append((tup[0],dist))\n",
    "    else:\n",
    "        \n",
    "        aligned_dict[tup[2]]=[(tup[0],dist)]         \n",
    "        ang_values.add(tup[2])\n",
    "\n",
    "for aligned_list in aligned_dict.values():\n",
    "    aligned_list.sort(key=lambda x:x[1])\n",
    "    \n",
    "aligned_dict"
   ]
  },
  {
   "cell_type": "code",
   "execution_count": 162,
   "metadata": {},
   "outputs": [
    {
     "name": "stdout",
     "output_type": "stream",
     "text": [
      "1 Remove angle -5 (Point(1,8), 2)\n",
      "2 Remove angle -2.677945044588987 (Point(0,9), 4)\n",
      "3 Remove angle -2.356194490192345 (Point(1,9), 3)\n",
      "4 Remove angle -1.892546881191539 (Point(1,11), 5)\n",
      "5 Remove angle -1.7126933813990606 (Point(1,15), 9)\n",
      "6 Remove angle -1.5707963267948966 (Point(2,9), 2)\n",
      "7 Remove angle -1.3258176636680326 (Point(4,16), 9)\n",
      "8 Remove angle -1.2924966677897853 (Point(4,15), 8)\n",
      "9 Remove angle -0.7853981633974483 (Point(4,10), 3)\n",
      "10 Remove angle 0.7853981633974483 (Point(3,2), 6)\n",
      "11 Remove angle 1.1071487177940904 (Point(4,4), 5)\n",
      "12 Remove angle 1.2490457723982544 (Point(4,2), 7)\n",
      "13 Remove angle 1.5707963267948966 (Point(1,6), 4)\n",
      "14 Remove angle 1.7126933813990606 (Point(1,1), 9)\n",
      "15 Remove angle 1.849095985800008 (Point(0,1), 10)\n",
      "16 Remove angle 1.892546881191539 (Point(1,5), 5)\n",
      "17 Remove angle 2.356194490192345 (Point(0,6), 5)\n",
      "18 Remove angle 2.677945044588987 (Point(0,7), 4)\n",
      "Finished tour\n",
      "19 Remove angle -5 (Point(0,8), 3)\n",
      "20 Remove angle -2.356194490192345 (Point(0,10), 5)\n",
      "21 Remove angle -1.5707963267948966 (Point(1,10), 4)\n",
      "22 Remove angle -0.7853981633974483 (Point(3,12), 4)\n",
      "23 Remove angle 1.5707963267948966 (Point(2,5), 4)\n",
      "Finished tour\n",
      "24 Remove angle -1.5707963267948966 (Point(2,11), 4)\n",
      "25 Remove angle -0.7853981633974483 (Point(3,13), 5)\n",
      "26 Remove angle 1.5707963267948966 (Point(2,1), 8)\n",
      "Finished tour\n",
      "27 Remove angle -1.5707963267948966 (Point(2,12), 5)\n",
      "28 Remove angle -0.7853981633974483 (Point(3,14), 6)\n",
      "29 Remove angle 1.5707963267948966 (Point(2,0), 9)\n",
      "Finished tour\n",
      "30 Remove angle -1.5707963267948966 (Point(1,12), 6)\n",
      "31 Remove angle 1.5707963267948966 (Point(1,0), 10)\n",
      "Finished tour\n",
      "32 Remove angle -1.5707963267948966 (Point(2,13), 6)\n",
      "Finished tour\n",
      "33 Remove angle -1.5707963267948966 (Point(2,14), 7)\n",
      "Finished tour\n",
      "34 Remove angle -1.5707963267948966 (Point(2,15), 8)\n",
      "Finished tour\n",
      "35 Remove angle -1.5707963267948966 (Point(0,14), 9)\n",
      "Finished tour\n",
      "36 Remove angle -1.5707963267948966 (Point(1,16), 10)\n",
      "Finished tour\n"
     ]
    }
   ],
   "source": [
    "destroy=map_.satellites_coord[:]\n",
    "aligned_dict_c  = deepcopy(aligned_dict)\n",
    "destroy.remove(map_.station)\n",
    "count=1\n",
    "while len(destroy)!=0:\n",
    "    for ang,points in aligned_dict_c.items():\n",
    "#         if len(points)!=0:\n",
    "        print(f\"{count} Remove angle {ang} {points[0]}\")\n",
    "\n",
    "        destroy.remove(points[0][0])\n",
    "        points.pop(0)\n",
    "        count+=1\n",
    "#         else:\n",
    "#             continue\n",
    "    print(\"Finished tour\")\n",
    "    \n",
    "    aligned_dict_c={ang:list_ for ang,list_ in aligned_dict_c.items() if len(list_)!=0}"
   ]
  },
  {
   "cell_type": "code",
   "execution_count": null,
   "metadata": {},
   "outputs": [],
   "source": []
  },
  {
   "cell_type": "code",
   "execution_count": null,
   "metadata": {},
   "outputs": [],
   "source": []
  }
 ],
 "metadata": {
  "kernelspec": {
   "display_name": "Python 3",
   "language": "python",
   "name": "python3"
  },
  "language_info": {
   "codemirror_mode": {
    "name": "ipython",
    "version": 3
   },
   "file_extension": ".py",
   "mimetype": "text/x-python",
   "name": "python",
   "nbconvert_exporter": "python",
   "pygments_lexer": "ipython3",
   "version": "3.6.5"
  }
 },
 "nbformat": 4,
 "nbformat_minor": 2
}

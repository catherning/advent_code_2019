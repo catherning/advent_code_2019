{
 "nbformat": 4,
 "nbformat_minor": 2,
 "metadata": {
  "language_info": {
   "name": "python",
   "codemirror_mode": {
    "name": "ipython",
    "version": 3
   },
   "version": "3.6.5"
  },
  "orig_nbformat": 2,
  "file_extension": ".py",
  "mimetype": "text/x-python",
  "name": "python",
  "npconvert_exporter": "python",
  "pygments_lexer": "ipython3",
  "version": 3
 },
 "cells": [
  {
   "cell_type": "markdown",
   "execution_count": null,
   "metadata": {},
   "outputs": [],
   "source": [
    "# Day 1: The Tyranny of the Rocket Equation"
   ]
  },
  {
   "cell_type": "code",
   "execution_count": 1,
   "metadata": {},
   "outputs": [],
   "source": [
    "import os\n",
    "import unittest"
   ]
  },
  {
   "cell_type": "code",
   "execution_count": 2,
   "metadata": {},
   "outputs": [],
   "source": [
    "filename = os.path.join(os.getcwd(),\"d1_input\")\n",
    "with open(filename) as f:\n",
    "    mass_inputs = [int(mass) for mass in f.readlines()]"
   ]
  },
  {
   "cell_type": "code",
   "execution_count": 3,
   "metadata": {},
   "outputs": [],
   "source": [
    "def requiredFuel(mass):\n",
    "    return mass // 3 -2\n",
    "\n",
    "def totalFuel(mass):\n",
    "    input_fuel = requiredFuel(mass)\n",
    "    f = requiredFuel(input_fuel)\n",
    "    total_fuel = input_fuel\n",
    "    while f>0:\n",
    "        total_fuel += f\n",
    "        f = requiredFuel(f)\n",
    "    return total_fuel\n",
    "\n",
    "def fuelSum(mass_inputs,callback):\n",
    "    return sum(map(callback,mass_inputs))"
   ]
  },
  {
   "cell_type": "code",
   "execution_count": 4,
   "metadata": {},
   "outputs": [
    {
     "data": {
      "text/plain": "3405637"
     },
     "execution_count": 4,
     "metadata": {},
     "output_type": "execute_result"
    }
   ],
   "source": [
    "# Answer 1\n",
    "fuelSum(mass_inputs,requiredFuel)"
   ]
  },
  {
   "cell_type": "code",
   "execution_count": 5,
   "metadata": {},
   "outputs": [
    {
     "data": {
      "text/plain": "5105597"
     },
     "execution_count": 5,
     "metadata": {},
     "output_type": "execute_result"
    }
   ],
   "source": [
    "# Answer 2\n",
    "fuelSum(mass_inputs,totalFuel)"
   ]
  },
  {
   "cell_type": "markdown",
   "execution_count": null,
   "metadata": {},
   "outputs": [],
   "source": [
    "# Day 2: 1202 Program Alarm"
   ]
  },
  {
   "cell_type": "code",
   "execution_count": 54,
   "metadata": {},
   "outputs": [],
   "source": [
    "def run_program(intcode_program):\n",
    "    for i in range(0,len(intcode_program),4):\n",
    "        if intcode_program[i]==1:\n",
    "            intcode_program[intcode_program[i+3]] = intcode_program[intcode_program[i+1]] + intcode_program[intcode_program[i+2]]\n",
    "        elif intcode_program[i]==2:\n",
    "            intcode_program[intcode_program[i+3]] = intcode_program[intcode_program[i+1]] * intcode_program[intcode_program[i+2]]\n",
    "        elif intcode_program[i]==99:\n",
    "            break\n",
    "        else:\n",
    "            raise ValueError(f\"Something went wrong. Opcode is {intcode_program[i]} at index {i} for the current program {intcode_program}\")\n",
    "    return intcode_program\n"
   ]
  },
  {
   "cell_type": "code",
   "execution_count": 55,
   "metadata": {},
   "outputs": [
    {
     "name": "stderr",
     "output_type": "stream",
     "text": ".\n----------------------------------------------------------------------\nRan 1 test in 0.001s\n\nOK\n"
    },
    {
     "data": {
      "text/plain": "<unittest.main.TestProgram at 0x1623aa79048>"
     },
     "execution_count": 55,
     "metadata": {},
     "output_type": "execute_result"
    }
   ],
   "source": [
    "class Test(unittest.TestCase):\n",
    "    def test(self):\n",
    "        self.states = [([1,9,10,3,2,3,11,0,99,30,40,50],[3500,9,10,70,2,3,11,0,99,30,40,50]),\n",
    "                ([1,0,0,0,99],[2,0,0,0,99]),\n",
    "                ([2,3,0,3,99],[2,3,0,6,99]),\n",
    "                ([2,4,4,5,99,0],[2,4,4,5,99,9801]),\n",
    "                ([1,1,1,4,99,5,6,0,99],[30,1,1,4,2,5,6,0,99])]\n",
    "        for (program,output) in self.states:\n",
    "            self.assertEqual(run_program(program),output)\n",
    "\n",
    "unittest.main(argv=['first-arg-is-ignored'], exit=False)"
   ]
  },
  {
   "cell_type": "code",
   "execution_count": 56,
   "metadata": {},
   "outputs": [
    {
     "data": {
      "text/plain": "False"
     },
     "execution_count": 56,
     "metadata": {},
     "output_type": "execute_result"
    }
   ],
   "source": [
    "filename = os.path.join(os.getcwd(),\"d2_input\")\n",
    "with open(filename) as f:\n",
    "    initial_program = [int(opcode) for opcode in f.read().split(\",\")]\n",
    "    intcode_program = initial_program[:]\n",
    "intcode_program[1]=12\n",
    "intcode_program[2]=2\n",
    "\n",
    "# Answer 1\n",
    "run_program(intcode_program)[0]"
   ]
  },
  {
   "cell_type": "code",
   "execution_count": 58,
   "metadata": {},
   "outputs": [
    {
     "data": {
      "text/plain": "(40, 19, 4019)"
     },
     "execution_count": 58,
     "metadata": {},
     "output_type": "execute_result"
    }
   ],
   "source": [
    "def findInput(init_program):\n",
    "    for noun in range(50):\n",
    "        for verb in range(50):\n",
    "            program = init_program[:]\n",
    "            program[1]=noun\n",
    "            program[2]=verb\n",
    "            if run_program(program)[0] == 19690720:\n",
    "                return noun,verb,100*noun+verb\n",
    "    \n",
    "    return None\n",
    "\n",
    "# Answer 2\n",
    "findInput(initial_program)"
   ]
  },
  {
   "cell_type": "markdown",
   "execution_count": null,
   "metadata": {},
   "outputs": [],
   "source": [
    "# Day 3: Crossed Wires"
   ]
  },
  {
   "cell_type": "code",
   "execution_count": 26,
   "metadata": {},
   "outputs": [],
   "source": [
    "import scipy.sparse as sparse\n",
    "import numpy as np"
   ]
  },
  {
   "cell_type": "code",
   "execution_count": 33,
   "metadata": {},
   "outputs": [
    {
     "name": "stdout",
     "output_type": "stream",
     "text": "<__main__.Wire object at 0x00000286848A0438>\n"
    }
   ],
   "source": [
    "filename = os.path.join(os.getcwd(),\"d3_input\")\n",
    "wires = []\n",
    "with open(filename) as f:\n",
    "    str_wires = f.read().splitlines()"
   ]
  },
  {
   "cell_type": "code",
   "execution_count": 54,
   "metadata": {},
   "outputs": [],
   "source": [
    "class Point:\n",
    "    def __init__(self,i,j):\n",
    "        self.i = i\n",
    "        self.j = j\n",
    "\n",
    "class Wire:\n",
    "    def __init__(self,string):\n",
    "        self.full_path = [(el[0],int(el[1:])) for el in string.replace(\"\\n\",\"\").split(\",\")]\n",
    "        self.size = 30#00\n",
    "        self.central_port = Point(self.size//2,self.size//2)\n",
    "        # self.sparse = sparse.bsr_matrix((self.size,self.size))\n",
    "        \n",
    "        self.create_path()\n",
    "\n",
    "    def create_path(self):\n",
    "    \n",
    "        self.sparse = np.zeros((self.size,self.size))\n",
    "        def fill_mat():\n",
    "            current_point = self.central_port\n",
    "            for (direction,nb_steps) in self.full_path:\n",
    "                if direction==\"U\":\n",
    "                    self.sparse[current_point.i-nb_steps:current_point.i,current_point.j]=1\n",
    "                    current_point.i-=nb_steps\n",
    "                elif direction==\"D\":\n",
    "                    self.sparse[current_point.i:current_point.i+nb_steps,current_point.j]=1\n",
    "                    current_point.i+=nb_steps\n",
    "                elif direction==\"L\":\n",
    "                    self.sparse[current_point.i,current_point.j-nb_steps:current_point.j]=1\n",
    "                    current_point.j+=nb_steps            \n",
    "                elif direction==\"R\":\n",
    "                    self.sparse[current_point.i,current_point.j:current_point.j+nb_steps]=1\n",
    "                    current_point.j+=nb_steps\n",
    "        try:\n",
    "            fill_mat()\n",
    "        except IndexError as e:\n",
    "            self.size = int(self.size*1.2)\n",
    "            print(f\"{e}  Change to size {self.size}\")\n",
    "            self.sparse = np.zeros((self.size,self.size))\n",
    "            fill(mat)\n",
    "    \n",
    "    def __str__(self):\n",
    "        return str(self.sparse)"
   ]
  },
  {
   "cell_type": "code",
   "execution_count": 55,
   "metadata": {},
   "outputs": [
    {
     "ename": "IndexError",
     "evalue": "index 23 is out of bounds for axis 1 with size 20",
     "output_type": "error",
     "traceback": [
      "\u001b[1;31m---------------------------------------------------------------------------\u001b[0m",
      "\u001b[1;31mIndexError\u001b[0m                                Traceback (most recent call last)",
      "\u001b[1;32m<ipython-input-55-9513ca09dbfc>\u001b[0m in \u001b[0;36m<module>\u001b[1;34m()\u001b[0m\n\u001b[0;32m      1\u001b[0m \u001b[0mstr_wires\u001b[0m \u001b[1;33m=\u001b[0m \u001b[1;33m[\u001b[0m\u001b[1;34m\"R8,U5,L5,D3\"\u001b[0m\u001b[1;33m,\u001b[0m\u001b[1;34m\"U7,R6,D4,L4\"\u001b[0m\u001b[1;33m]\u001b[0m\u001b[1;33m\u001b[0m\u001b[0m\n\u001b[1;32m----> 2\u001b[1;33m \u001b[0mwires\u001b[0m \u001b[1;33m=\u001b[0m \u001b[1;33m[\u001b[0m\u001b[0mWire\u001b[0m\u001b[1;33m(\u001b[0m\u001b[0mwire\u001b[0m\u001b[1;33m)\u001b[0m \u001b[1;32mfor\u001b[0m \u001b[0mwire\u001b[0m \u001b[1;32min\u001b[0m \u001b[0mstr_wires\u001b[0m\u001b[1;33m]\u001b[0m\u001b[1;33m\u001b[0m\u001b[0m\n\u001b[0m\u001b[0;32m      3\u001b[0m \u001b[0mprint\u001b[0m\u001b[1;33m(\u001b[0m\u001b[0mwires\u001b[0m\u001b[1;33m[\u001b[0m\u001b[1;36m0\u001b[0m\u001b[1;33m]\u001b[0m\u001b[1;33m)\u001b[0m\u001b[1;33m\u001b[0m\u001b[0m\n",
      "\u001b[1;32m<ipython-input-55-9513ca09dbfc>\u001b[0m in \u001b[0;36m<listcomp>\u001b[1;34m(.0)\u001b[0m\n\u001b[0;32m      1\u001b[0m \u001b[0mstr_wires\u001b[0m \u001b[1;33m=\u001b[0m \u001b[1;33m[\u001b[0m\u001b[1;34m\"R8,U5,L5,D3\"\u001b[0m\u001b[1;33m,\u001b[0m\u001b[1;34m\"U7,R6,D4,L4\"\u001b[0m\u001b[1;33m]\u001b[0m\u001b[1;33m\u001b[0m\u001b[0m\n\u001b[1;32m----> 2\u001b[1;33m \u001b[0mwires\u001b[0m \u001b[1;33m=\u001b[0m \u001b[1;33m[\u001b[0m\u001b[0mWire\u001b[0m\u001b[1;33m(\u001b[0m\u001b[0mwire\u001b[0m\u001b[1;33m)\u001b[0m \u001b[1;32mfor\u001b[0m \u001b[0mwire\u001b[0m \u001b[1;32min\u001b[0m \u001b[0mstr_wires\u001b[0m\u001b[1;33m]\u001b[0m\u001b[1;33m\u001b[0m\u001b[0m\n\u001b[0m\u001b[0;32m      3\u001b[0m \u001b[0mprint\u001b[0m\u001b[1;33m(\u001b[0m\u001b[0mwires\u001b[0m\u001b[1;33m[\u001b[0m\u001b[1;36m0\u001b[0m\u001b[1;33m]\u001b[0m\u001b[1;33m)\u001b[0m\u001b[1;33m\u001b[0m\u001b[0m\n",
      "\u001b[1;32m<ipython-input-54-d9b5fda63c02>\u001b[0m in \u001b[0;36m__init__\u001b[1;34m(self, string)\u001b[0m\n\u001b[0;32m     11\u001b[0m         \u001b[1;31m# self.sparse = sparse.bsr_matrix((self.size,self.size))\u001b[0m\u001b[1;33m\u001b[0m\u001b[1;33m\u001b[0m\u001b[0m\n\u001b[0;32m     12\u001b[0m \u001b[1;33m\u001b[0m\u001b[0m\n\u001b[1;32m---> 13\u001b[1;33m         \u001b[0mself\u001b[0m\u001b[1;33m.\u001b[0m\u001b[0mcreate_path\u001b[0m\u001b[1;33m(\u001b[0m\u001b[1;33m)\u001b[0m\u001b[1;33m\u001b[0m\u001b[0m\n\u001b[0m\u001b[0;32m     14\u001b[0m \u001b[1;33m\u001b[0m\u001b[0m\n\u001b[0;32m     15\u001b[0m     \u001b[1;32mdef\u001b[0m \u001b[0mcreate_path\u001b[0m\u001b[1;33m(\u001b[0m\u001b[0mself\u001b[0m\u001b[1;33m)\u001b[0m\u001b[1;33m:\u001b[0m\u001b[1;33m\u001b[0m\u001b[0m\n",
      "\u001b[1;32m<ipython-input-54-d9b5fda63c02>\u001b[0m in \u001b[0;36mcreate_path\u001b[1;34m(self)\u001b[0m\n\u001b[0;32m     21\u001b[0m                 \u001b[0mcurrent_point\u001b[0m\u001b[1;33m.\u001b[0m\u001b[0mi\u001b[0m\u001b[1;33m-=\u001b[0m\u001b[0mnb_steps\u001b[0m\u001b[1;33m\u001b[0m\u001b[0m\n\u001b[0;32m     22\u001b[0m             \u001b[1;32melif\u001b[0m \u001b[0mdirection\u001b[0m\u001b[1;33m==\u001b[0m\u001b[1;34m\"D\"\u001b[0m\u001b[1;33m:\u001b[0m\u001b[1;33m\u001b[0m\u001b[0m\n\u001b[1;32m---> 23\u001b[1;33m                 \u001b[0mself\u001b[0m\u001b[1;33m.\u001b[0m\u001b[0msparse\u001b[0m\u001b[1;33m[\u001b[0m\u001b[0mcurrent_point\u001b[0m\u001b[1;33m.\u001b[0m\u001b[0mi\u001b[0m\u001b[1;33m:\u001b[0m\u001b[0mcurrent_point\u001b[0m\u001b[1;33m.\u001b[0m\u001b[0mi\u001b[0m\u001b[1;33m+\u001b[0m\u001b[0mnb_steps\u001b[0m\u001b[1;33m,\u001b[0m\u001b[0mcurrent_point\u001b[0m\u001b[1;33m.\u001b[0m\u001b[0mj\u001b[0m\u001b[1;33m]\u001b[0m\u001b[1;33m=\u001b[0m\u001b[1;36m1\u001b[0m\u001b[1;33m\u001b[0m\u001b[0m\n\u001b[0m\u001b[0;32m     24\u001b[0m                 \u001b[0mcurrent_point\u001b[0m\u001b[1;33m.\u001b[0m\u001b[0mi\u001b[0m\u001b[1;33m+=\u001b[0m\u001b[0mnb_steps\u001b[0m\u001b[1;33m\u001b[0m\u001b[0m\n\u001b[0;32m     25\u001b[0m             \u001b[1;32melif\u001b[0m \u001b[0mdirection\u001b[0m\u001b[1;33m==\u001b[0m\u001b[1;34m\"L\"\u001b[0m\u001b[1;33m:\u001b[0m\u001b[1;33m\u001b[0m\u001b[0m\n",
      "\u001b[1;31mIndexError\u001b[0m: index 23 is out of bounds for axis 1 with size 20"
     ]
    }
   ],
   "source": [
    "str_wires = [\"R8,U5,L5,D3\",\"U7,R6,D4,L4\"]\n",
    "wires = [Wire(wire) for wire in str_wires]\n",
    "print(wires[0])"
   ]
  },
  {
   "cell_type": "code",
   "execution_count": null,
   "metadata": {},
   "outputs": [],
   "source": []
  }
 ]
}
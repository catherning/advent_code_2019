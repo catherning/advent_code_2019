{
 "nbformat": 4,
 "nbformat_minor": 2,
 "metadata": {
  "language_info": {
   "name": "python",
   "codemirror_mode": {
    "name": "ipython",
    "version": 3
   },
   "version": "3.6.5"
  },
  "orig_nbformat": 2,
  "file_extension": ".py",
  "mimetype": "text/x-python",
  "name": "python",
  "npconvert_exporter": "python",
  "pygments_lexer": "ipython3",
  "version": 3
 },
 "cells": [
  {
   "cell_type": "markdown",
   "execution_count": null,
   "metadata": {},
   "outputs": [],
   "source": [
    "# Day 1: The Tyranny of the Rocket Equation"
   ]
  },
  {
   "cell_type": "code",
   "execution_count": 1,
   "metadata": {},
   "outputs": [],
   "source": [
    "import os\n",
    "import unittest"
   ]
  },
  {
   "cell_type": "code",
   "execution_count": 2,
   "metadata": {},
   "outputs": [],
   "source": [
    "filename = os.path.join(os.getcwd(),\"d1_input\")\n",
    "with open(filename) as f:\n",
    "    mass_inputs = [int(mass) for mass in f.readlines()]"
   ]
  },
  {
   "cell_type": "code",
   "execution_count": 3,
   "metadata": {},
   "outputs": [],
   "source": [
    "def requiredFuel(mass):\n",
    "    return mass // 3 -2\n",
    "\n",
    "def totalFuel(mass):\n",
    "    input_fuel = requiredFuel(mass)\n",
    "    f = requiredFuel(input_fuel)\n",
    "    total_fuel = input_fuel\n",
    "    while f>0:\n",
    "        total_fuel += f\n",
    "        f = requiredFuel(f)\n",
    "    return total_fuel\n",
    "\n",
    "def fuelSum(mass_inputs,callback):\n",
    "    return sum(map(callback,mass_inputs))"
   ]
  },
  {
   "cell_type": "code",
   "execution_count": 4,
   "metadata": {},
   "outputs": [
    {
     "data": {
      "text/plain": "3405637"
     },
     "execution_count": 4,
     "metadata": {},
     "output_type": "execute_result"
    }
   ],
   "source": [
    "# Answer 1\n",
    "fuelSum(mass_inputs,requiredFuel)"
   ]
  },
  {
   "cell_type": "code",
   "execution_count": 5,
   "metadata": {},
   "outputs": [
    {
     "data": {
      "text/plain": "5105597"
     },
     "execution_count": 5,
     "metadata": {},
     "output_type": "execute_result"
    }
   ],
   "source": [
    "# Answer 2\n",
    "fuelSum(mass_inputs,totalFuel)"
   ]
  },
  {
   "cell_type": "markdown",
   "execution_count": null,
   "metadata": {},
   "outputs": [],
   "source": [
    "# Day 2: 1202 Program Alarm"
   ]
  },
  {
   "cell_type": "code",
   "execution_count": 54,
   "metadata": {},
   "outputs": [],
   "source": [
    "def run_program(intcode_program):\n",
    "    for i in range(0,len(intcode_program),4):\n",
    "        if intcode_program[i]==1:\n",
    "            intcode_program[intcode_program[i+3]] = intcode_program[intcode_program[i+1]] + intcode_program[intcode_program[i+2]]\n",
    "        elif intcode_program[i]==2:\n",
    "            intcode_program[intcode_program[i+3]] = intcode_program[intcode_program[i+1]] * intcode_program[intcode_program[i+2]]\n",
    "        elif intcode_program[i]==99:\n",
    "            break\n",
    "        else:\n",
    "            raise ValueError(f\"Something went wrong. Opcode is {intcode_program[i]} at index {i} for the current program {intcode_program}\")\n",
    "    return intcode_program\n"
   ]
  },
  {
   "cell_type": "code",
   "execution_count": 55,
   "metadata": {},
   "outputs": [
    {
     "name": "stderr",
     "output_type": "stream",
     "text": ".\n----------------------------------------------------------------------\nRan 1 test in 0.001s\n\nOK\n"
    },
    {
     "data": {
      "text/plain": "<unittest.main.TestProgram at 0x1623aa79048>"
     },
     "execution_count": 55,
     "metadata": {},
     "output_type": "execute_result"
    }
   ],
   "source": [
    "class Test(unittest.TestCase):\n",
    "    def test(self):\n",
    "        self.states = [([1,9,10,3,2,3,11,0,99,30,40,50],[3500,9,10,70,2,3,11,0,99,30,40,50]),\n",
    "                ([1,0,0,0,99],[2,0,0,0,99]),\n",
    "                ([2,3,0,3,99],[2,3,0,6,99]),\n",
    "                ([2,4,4,5,99,0],[2,4,4,5,99,9801]),\n",
    "                ([1,1,1,4,99,5,6,0,99],[30,1,1,4,2,5,6,0,99])]\n",
    "        for (program,output) in self.states:\n",
    "            self.assertEqual(run_program(program),output)\n",
    "\n",
    "unittest.main(argv=['first-arg-is-ignored'], exit=False)"
   ]
  },
  {
   "cell_type": "code",
   "execution_count": 56,
   "metadata": {},
   "outputs": [
    {
     "data": {
      "text/plain": "False"
     },
     "execution_count": 56,
     "metadata": {},
     "output_type": "execute_result"
    }
   ],
   "source": [
    "filename = os.path.join(os.getcwd(),\"d2_input\")\n",
    "with open(filename) as f:\n",
    "    initial_program = [int(opcode) for opcode in f.read().split(\",\")]\n",
    "    intcode_program = initial_program[:]\n",
    "intcode_program[1]=12\n",
    "intcode_program[2]=2\n",
    "\n",
    "# Answer 1\n",
    "run_program(intcode_program)[0]"
   ]
  },
  {
   "cell_type": "code",
   "execution_count": 58,
   "metadata": {},
   "outputs": [
    {
     "data": {
      "text/plain": "(40, 19, 4019)"
     },
     "execution_count": 58,
     "metadata": {},
     "output_type": "execute_result"
    }
   ],
   "source": [
    "def findInput(init_program):\n",
    "    for noun in range(50):\n",
    "        for verb in range(50):\n",
    "            program = init_program[:]\n",
    "            program[1]=noun\n",
    "            program[2]=verb\n",
    "            if run_program(program)[0] == 19690720:\n",
    "                return noun,verb,100*noun+verb\n",
    "    \n",
    "    return None\n",
    "\n",
    "# Answer 2\n",
    "findInput(initial_program)"
   ]
  }
 ]
}
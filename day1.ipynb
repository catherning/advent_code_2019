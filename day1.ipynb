{
 "nbformat": 4,
 "nbformat_minor": 2,
 "metadata": {
  "language_info": {
   "name": "python",
   "codemirror_mode": {
    "name": "ipython",
    "version": 3
   },
   "version": "3.6.5"
  },
  "orig_nbformat": 2,
  "file_extension": ".py",
  "mimetype": "text/x-python",
  "name": "python",
  "npconvert_exporter": "python",
  "pygments_lexer": "ipython3",
  "version": 3
 },
 "cells": [
  {
   "cell_type": "markdown",
   "execution_count": null,
   "metadata": {},
   "outputs": [],
   "source": [
    "# Day 1: The Tyranny of the Rocket Equation"
   ]
  },
  {
   "cell_type": "code",
   "execution_count": 1,
   "metadata": {},
   "outputs": [],
   "source": [
    "import os\n",
    "import unittest"
   ]
  },
  {
   "cell_type": "code",
   "execution_count": 2,
   "metadata": {},
   "outputs": [],
   "source": [
    "filename = os.path.join(os.getcwd(),\"d1_input\")\n",
    "with open(filename) as f:\n",
    "    mass_inputs = [int(mass) for mass in f.readlines()]"
   ]
  },
  {
   "cell_type": "code",
   "execution_count": 3,
   "metadata": {},
   "outputs": [],
   "source": [
    "def requiredFuel(mass):\n",
    "    return mass // 3 -2\n",
    "\n",
    "def totalFuel(mass):\n",
    "    input_fuel = requiredFuel(mass)\n",
    "    f = requiredFuel(input_fuel)\n",
    "    total_fuel = input_fuel\n",
    "    while f>0:\n",
    "        total_fuel += f\n",
    "        f = requiredFuel(f)\n",
    "    return total_fuel\n",
    "\n",
    "def fuelSum(mass_inputs,callback):\n",
    "    return sum(map(callback,mass_inputs))"
   ]
  },
  {
   "cell_type": "code",
   "execution_count": 4,
   "metadata": {},
   "outputs": [
    {
     "data": {
      "text/plain": "3405637"
     },
     "execution_count": 4,
     "metadata": {},
     "output_type": "execute_result"
    }
   ],
   "source": [
    "# Answer 1\n",
    "fuelSum(mass_inputs,requiredFuel)"
   ]
  },
  {
   "cell_type": "code",
   "execution_count": 5,
   "metadata": {},
   "outputs": [
    {
     "data": {
      "text/plain": "5105597"
     },
     "execution_count": 5,
     "metadata": {},
     "output_type": "execute_result"
    }
   ],
   "source": [
    "# Answer 2\n",
    "fuelSum(mass_inputs,totalFuel)"
   ]
  },
  {
   "cell_type": "markdown",
   "execution_count": null,
   "metadata": {},
   "outputs": [],
   "source": [
    "# Day 2: 1202 Program Alarm"
   ]
  },
  {
   "cell_type": "code",
   "execution_count": 54,
   "metadata": {},
   "outputs": [],
   "source": [
    "def run_program(intcode_program):\n",
    "    for i in range(0,len(intcode_program),4):\n",
    "        if intcode_program[i]==1:\n",
    "            intcode_program[intcode_program[i+3]] = intcode_program[intcode_program[i+1]] + intcode_program[intcode_program[i+2]]\n",
    "        elif intcode_program[i]==2:\n",
    "            intcode_program[intcode_program[i+3]] = intcode_program[intcode_program[i+1]] * intcode_program[intcode_program[i+2]]\n",
    "        elif intcode_program[i]==99:\n",
    "            break\n",
    "        else:\n",
    "            raise ValueError(f\"Something went wrong. Opcode is {intcode_program[i]} at index {i} for the current program {intcode_program}\")\n",
    "    return intcode_program\n"
   ]
  },
  {
   "cell_type": "code",
   "execution_count": 55,
   "metadata": {},
   "outputs": [
    {
     "name": "stderr",
     "output_type": "stream",
     "text": ".\n----------------------------------------------------------------------\nRan 1 test in 0.001s\n\nOK\n"
    },
    {
     "data": {
      "text/plain": "<unittest.main.TestProgram at 0x1623aa79048>"
     },
     "execution_count": 55,
     "metadata": {},
     "output_type": "execute_result"
    }
   ],
   "source": [
    "class Test(unittest.TestCase):\n",
    "    def test(self):\n",
    "        self.states = [([1,9,10,3,2,3,11,0,99,30,40,50],[3500,9,10,70,2,3,11,0,99,30,40,50]),\n",
    "                ([1,0,0,0,99],[2,0,0,0,99]),\n",
    "                ([2,3,0,3,99],[2,3,0,6,99]),\n",
    "                ([2,4,4,5,99,0],[2,4,4,5,99,9801]),\n",
    "                ([1,1,1,4,99,5,6,0,99],[30,1,1,4,2,5,6,0,99])]\n",
    "        for (program,output) in self.states:\n",
    "            self.assertEqual(run_program(program),output)\n",
    "\n",
    "unittest.main(argv=['first-arg-is-ignored'], exit=False)"
   ]
  },
  {
   "cell_type": "code",
   "execution_count": 56,
   "metadata": {},
   "outputs": [
    {
     "data": {
      "text/plain": "False"
     },
     "execution_count": 56,
     "metadata": {},
     "output_type": "execute_result"
    }
   ],
   "source": [
    "filename = os.path.join(os.getcwd(),\"d2_input\")\n",
    "with open(filename) as f:\n",
    "    initial_program = [int(opcode) for opcode in f.read().split(\",\")]\n",
    "    intcode_program = initial_program[:]\n",
    "intcode_program[1]=12\n",
    "intcode_program[2]=2\n",
    "\n",
    "# Answer 1\n",
    "run_program(intcode_program)[0]"
   ]
  },
  {
   "cell_type": "code",
   "execution_count": 58,
   "metadata": {},
   "outputs": [
    {
     "data": {
      "text/plain": "(40, 19, 4019)"
     },
     "execution_count": 58,
     "metadata": {},
     "output_type": "execute_result"
    }
   ],
   "source": [
    "def findInput(init_program):\n",
    "    for noun in range(50):\n",
    "        for verb in range(50):\n",
    "            program = init_program[:]\n",
    "            program[1]=noun\n",
    "            program[2]=verb\n",
    "            if run_program(program)[0] == 19690720:\n",
    "                return noun,verb,100*noun+verb\n",
    "    \n",
    "    return None\n",
    "\n",
    "# Answer 2\n",
    "findInput(initial_program)"
   ]
  },
  {
   "cell_type": "markdown",
   "execution_count": null,
   "metadata": {},
   "outputs": [],
   "source": [
    "# Day 3: Crossed Wires"
   ]
  },
  {
   "cell_type": "code",
   "execution_count": 2,
   "metadata": {},
   "outputs": [],
   "source": [
    "import scipy.sparse as sparse\n",
    "import numpy as np\n",
    "from copy import copy,deepcopy\n",
    "import math"
   ]
  },
  {
   "cell_type": "code",
   "execution_count": 3,
   "metadata": {},
   "outputs": [],
   "source": [
    "filename = os.path.join(os.getcwd(),\"d3_input\")\n",
    "wires = []\n",
    "with open(filename) as f:\n",
    "    str_wires = f.read().splitlines()"
   ]
  },
  {
   "cell_type": "code",
   "execution_count": 4,
   "metadata": {},
   "outputs": [],
   "source": [
    "class Point:\n",
    "    def __init__(self,i,j):\n",
    "        self.i = i\n",
    "        self.j = j\n",
    "\n",
    "    def __str__(self):\n",
    "        return f\"Point({self.i},{self.j})\"\n",
    "\n",
    "    def manhattanDistance(self,other_point):\n",
    "        return abs(self.j-other_point.j)+abs(self.i-other_point.i)"
   ]
  },
  {
   "cell_type": "code",
   "execution_count": 20,
   "metadata": {},
   "outputs": [],
   "source": [
    "class Wire:\n",
    "    def __init__(self,string,size=20):\n",
    "        self.full_path = [(el[0],int(el[1:])) for el in string.replace(\"\\n\",\"\").split(\",\")]\n",
    "        self.size = size#00\n",
    "        \n",
    "        self.create_path()\n",
    "        # print(str(self.sparse))\n",
    "        print(\"\")\n",
    "\n",
    "    def create_path(self,limit_try=10):\n",
    "        def fill_mat():\n",
    "            self.central_port = Point(self.size//2,self.size//2)\n",
    "            current_point = copy(self.central_port)\n",
    "            # self.sparse = np.zeros((self.size,self.size))\n",
    "            # self.sparse = sparse.bsr_matrix((self.size,self.size))\n",
    "            row = [self.size//2]\n",
    "            col = [self.size//2]\n",
    "            for (direction,nb_steps) in self.full_path:\n",
    "                if direction==\"U\":\n",
    "                    # self.sparse[current_point.i-nb_steps:current_point.i,current_point.j]=1\n",
    "                    t_row = [i for i in range(current_point.i-nb_steps,current_point.i)]\n",
    "                    row += t_row\n",
    "                    col +=[current_point.j]*len(t_row)\n",
    "                    current_point.i-=nb_steps\n",
    "                elif direction==\"D\":\n",
    "                    # self.sparse[current_point.i:current_point.i+nb_steps+1,current_point.j]=1\n",
    "                    t_row = [i for i in range(current_point.i,current_point.i+nb_steps+1)]\n",
    "                    row += t_row\n",
    "                    col +=[current_point.j]*len(t_row)\n",
    "                    current_point.i+=nb_steps\n",
    "                elif direction==\"L\":\n",
    "                    # self.sparse[current_point.i,current_point.j-nb_steps:current_point.j]=1\n",
    "                    t_col = [i for i in range(current_point.j-nb_steps,current_point.j)]\n",
    "                    col += t_col\n",
    "                    row +=[current_point.i]*len(t_col)                    \n",
    "     \n",
    "                    current_point.j-=nb_steps            \n",
    "                elif direction==\"R\":\n",
    "                    # self.sparse[current_point.i,current_point.j:current_point.j+nb_steps+1]=1\n",
    "                    t_col = [i for i in range(current_point.j,current_point.j+nb_steps+1)]\n",
    "                    col += t_col\n",
    "                    row +=[current_point.i]*len(t_col)                       \n",
    "                    current_point.j+=nb_steps\n",
    "            \n",
    "            val = [1]*len(row)\n",
    "            print(f\"{len(row), len(col), len(val)}\")\n",
    "            # self.sparse[self.central_port.i,self.central_port.j]=2\n",
    "            self.sparse = sparse.csc_matrix((val,(row,col)),shape=(max(row)+1,max(col)+1))\n",
    "\n",
    "        count_try = 0\n",
    "        while count_try<limit_try:\n",
    "            try:\n",
    "                fill_mat()\n",
    "                print(\"Wire path created.\")\n",
    "                count_try = limit_try\n",
    "            except IndexError as e:\n",
    "                self.size = int(self.size*1.5)\n",
    "                print(f\"{e}  Change to size {self.size}\")\n",
    "        if count_try >limit_try:\n",
    "            raise IndexError(\"Couldn't create wire path, the matrix was too small\")\n",
    "        \n",
    "    def wiresCross(self,other_wire):\n",
    "        self.intersections = np.multiply(self.sparse,other_wire.sparse)\n",
    "        return self.sparse.multiply(other_wire.sparse)\n",
    "    \n",
    "\n",
    "    def getClosestIntersectionDist(self,other_wire):\n",
    "        self.wiresCross(other_wire)\n",
    "        min_dist = math.inf\n",
    "        coord = np.argwhere(self.intersections==1)\n",
    "        for i in range(len(coord)):\n",
    "            dist = self.central_port.manhattanDistance(Point(coord[i,0],coord[i,1]))\n",
    "            if min_dist>dist:\n",
    "                min_dist = dist\n",
    "        return min_dist\n",
    "\n",
    "\n",
    "    def __str__(self):\n",
    "        return str(self.sparse)"
   ]
  },
  {
   "cell_type": "code",
   "execution_count": 21,
   "metadata": {},
   "outputs": [
    {
     "name": "stdout",
     "output_type": "stream",
     "text": "(24, 24, 24)\nWire path created.\n\n(24, 24, 24)\nWire path created.\n\nCommon max size: 20\n(24, 24, 24)\nWire path created.\n\n(24, 24, 24)\nWire path created.\n\n  (10, 10)\t2\n  (10, 11)\t1\n  (10, 12)\t1\n  (5, 13)\t2\n  (6, 13)\t1\n  (7, 13)\t1\n  (8, 13)\t1\n  (10, 13)\t1\n  (5, 14)\t1\n  (10, 14)\t1\n  (5, 15)\t1\n  (10, 15)\t1\n  (5, 16)\t1\n  (10, 16)\t1\n  (5, 17)\t1\n  (10, 17)\t1\n  (5, 18)\t1\n  (6, 18)\t1\n  (7, 18)\t1\n  (8, 18)\t1\n  (9, 18)\t1\n  (10, 18)\t1\n"
    },
    {
     "ename": "ValueError",
     "evalue": "dimension mismatch",
     "output_type": "error",
     "traceback": [
      "\u001b[1;31m---------------------------------------------------------------------------\u001b[0m",
      "\u001b[1;31mValueError\u001b[0m                                Traceback (most recent call last)",
      "\u001b[1;32m<ipython-input-21-fc48419cd260>\u001b[0m in \u001b[0;36m<module>\u001b[1;34m()\u001b[0m\n\u001b[0;32m     11\u001b[0m     \u001b[1;32mreturn\u001b[0m \u001b[0mwires\u001b[0m\u001b[1;33m[\u001b[0m\u001b[1;36m0\u001b[0m\u001b[1;33m]\u001b[0m\u001b[1;33m.\u001b[0m\u001b[0mgetClosestIntersectionDist\u001b[0m\u001b[1;33m(\u001b[0m\u001b[0mwires\u001b[0m\u001b[1;33m[\u001b[0m\u001b[1;36m1\u001b[0m\u001b[1;33m]\u001b[0m\u001b[1;33m)\u001b[0m\u001b[1;33m\u001b[0m\u001b[0m\n\u001b[0;32m     12\u001b[0m \u001b[1;33m\u001b[0m\u001b[0m\n\u001b[1;32m---> 13\u001b[1;33m \u001b[0mgetMin\u001b[0m\u001b[1;33m(\u001b[0m\u001b[0mstr_wires\u001b[0m\u001b[1;33m,\u001b[0m\u001b[1;36m20\u001b[0m\u001b[1;33m)\u001b[0m\u001b[1;33m\u001b[0m\u001b[0m\n\u001b[0m",
      "\u001b[1;32m<ipython-input-21-fc48419cd260>\u001b[0m in \u001b[0;36mgetMin\u001b[1;34m(str_wires, size)\u001b[0m\n\u001b[0;32m      9\u001b[0m     \u001b[0mwires\u001b[0m \u001b[1;33m=\u001b[0m \u001b[1;33m[\u001b[0m\u001b[0mWire\u001b[0m\u001b[1;33m(\u001b[0m\u001b[0mwire\u001b[0m\u001b[1;33m,\u001b[0m\u001b[0msize\u001b[0m\u001b[1;33m=\u001b[0m\u001b[0mmax_size\u001b[0m\u001b[1;33m)\u001b[0m \u001b[1;32mfor\u001b[0m \u001b[0mwire\u001b[0m \u001b[1;32min\u001b[0m \u001b[0mstr_wires\u001b[0m\u001b[1;33m]\u001b[0m\u001b[1;33m\u001b[0m\u001b[0m\n\u001b[0;32m     10\u001b[0m     \u001b[0mprint\u001b[0m\u001b[1;33m(\u001b[0m\u001b[0mwires\u001b[0m\u001b[1;33m[\u001b[0m\u001b[1;36m0\u001b[0m\u001b[1;33m]\u001b[0m\u001b[1;33m)\u001b[0m\u001b[1;33m\u001b[0m\u001b[0m\n\u001b[1;32m---> 11\u001b[1;33m     \u001b[1;32mreturn\u001b[0m \u001b[0mwires\u001b[0m\u001b[1;33m[\u001b[0m\u001b[1;36m0\u001b[0m\u001b[1;33m]\u001b[0m\u001b[1;33m.\u001b[0m\u001b[0mgetClosestIntersectionDist\u001b[0m\u001b[1;33m(\u001b[0m\u001b[0mwires\u001b[0m\u001b[1;33m[\u001b[0m\u001b[1;36m1\u001b[0m\u001b[1;33m]\u001b[0m\u001b[1;33m)\u001b[0m\u001b[1;33m\u001b[0m\u001b[0m\n\u001b[0m\u001b[0;32m     12\u001b[0m \u001b[1;33m\u001b[0m\u001b[0m\n\u001b[0;32m     13\u001b[0m \u001b[0mgetMin\u001b[0m\u001b[1;33m(\u001b[0m\u001b[0mstr_wires\u001b[0m\u001b[1;33m,\u001b[0m\u001b[1;36m20\u001b[0m\u001b[1;33m)\u001b[0m\u001b[1;33m\u001b[0m\u001b[0m\n",
      "\u001b[1;32m<ipython-input-20-61163989b369>\u001b[0m in \u001b[0;36mgetClosestIntersectionDist\u001b[1;34m(self, other_wire)\u001b[0m\n\u001b[0;32m     66\u001b[0m \u001b[1;33m\u001b[0m\u001b[0m\n\u001b[0;32m     67\u001b[0m     \u001b[1;32mdef\u001b[0m \u001b[0mgetClosestIntersectionDist\u001b[0m\u001b[1;33m(\u001b[0m\u001b[0mself\u001b[0m\u001b[1;33m,\u001b[0m\u001b[0mother_wire\u001b[0m\u001b[1;33m)\u001b[0m\u001b[1;33m:\u001b[0m\u001b[1;33m\u001b[0m\u001b[0m\n\u001b[1;32m---> 68\u001b[1;33m         \u001b[0mself\u001b[0m\u001b[1;33m.\u001b[0m\u001b[0mwiresCross\u001b[0m\u001b[1;33m(\u001b[0m\u001b[0mother_wire\u001b[0m\u001b[1;33m)\u001b[0m\u001b[1;33m\u001b[0m\u001b[0m\n\u001b[0m\u001b[0;32m     69\u001b[0m         \u001b[0mmin_dist\u001b[0m \u001b[1;33m=\u001b[0m \u001b[0mmath\u001b[0m\u001b[1;33m.\u001b[0m\u001b[0minf\u001b[0m\u001b[1;33m\u001b[0m\u001b[0m\n\u001b[0;32m     70\u001b[0m         \u001b[0mcoord\u001b[0m \u001b[1;33m=\u001b[0m \u001b[0mnp\u001b[0m\u001b[1;33m.\u001b[0m\u001b[0margwhere\u001b[0m\u001b[1;33m(\u001b[0m\u001b[0mself\u001b[0m\u001b[1;33m.\u001b[0m\u001b[0mintersections\u001b[0m\u001b[1;33m==\u001b[0m\u001b[1;36m1\u001b[0m\u001b[1;33m)\u001b[0m\u001b[1;33m\u001b[0m\u001b[0m\n",
      "\u001b[1;32m<ipython-input-20-61163989b369>\u001b[0m in \u001b[0;36mwiresCross\u001b[1;34m(self, other_wire)\u001b[0m\n\u001b[0;32m     61\u001b[0m \u001b[1;33m\u001b[0m\u001b[0m\n\u001b[0;32m     62\u001b[0m     \u001b[1;32mdef\u001b[0m \u001b[0mwiresCross\u001b[0m\u001b[1;33m(\u001b[0m\u001b[0mself\u001b[0m\u001b[1;33m,\u001b[0m\u001b[0mother_wire\u001b[0m\u001b[1;33m)\u001b[0m\u001b[1;33m:\u001b[0m\u001b[1;33m\u001b[0m\u001b[0m\n\u001b[1;32m---> 63\u001b[1;33m         \u001b[0mself\u001b[0m\u001b[1;33m.\u001b[0m\u001b[0mintersections\u001b[0m \u001b[1;33m=\u001b[0m \u001b[0mnp\u001b[0m\u001b[1;33m.\u001b[0m\u001b[0mmultiply\u001b[0m\u001b[1;33m(\u001b[0m\u001b[0mself\u001b[0m\u001b[1;33m.\u001b[0m\u001b[0msparse\u001b[0m\u001b[1;33m,\u001b[0m\u001b[0mother_wire\u001b[0m\u001b[1;33m.\u001b[0m\u001b[0msparse\u001b[0m\u001b[1;33m)\u001b[0m\u001b[1;33m\u001b[0m\u001b[0m\n\u001b[0m\u001b[0;32m     64\u001b[0m         \u001b[1;32mreturn\u001b[0m \u001b[0mself\u001b[0m\u001b[1;33m.\u001b[0m\u001b[0msparse\u001b[0m\u001b[1;33m.\u001b[0m\u001b[0mmultiply\u001b[0m\u001b[1;33m(\u001b[0m\u001b[0mother_wire\u001b[0m\u001b[1;33m.\u001b[0m\u001b[0msparse\u001b[0m\u001b[1;33m)\u001b[0m\u001b[1;33m\u001b[0m\u001b[0m\n\u001b[0;32m     65\u001b[0m \u001b[1;33m\u001b[0m\u001b[0m\n",
      "\u001b[1;32mD:\\Programmes\\Microsoft Visual Studio\\Shared\\Anaconda3_64\\lib\\site-packages\\scipy\\sparse\\base.py\u001b[0m in \u001b[0;36m__mul__\u001b[1;34m(self, other)\u001b[0m\n\u001b[0;32m    476\u001b[0m         \u001b[1;32mif\u001b[0m \u001b[0missparse\u001b[0m\u001b[1;33m(\u001b[0m\u001b[0mother\u001b[0m\u001b[1;33m)\u001b[0m\u001b[1;33m:\u001b[0m\u001b[1;33m\u001b[0m\u001b[0m\n\u001b[0;32m    477\u001b[0m             \u001b[1;32mif\u001b[0m \u001b[0mself\u001b[0m\u001b[1;33m.\u001b[0m\u001b[0mshape\u001b[0m\u001b[1;33m[\u001b[0m\u001b[1;36m1\u001b[0m\u001b[1;33m]\u001b[0m \u001b[1;33m!=\u001b[0m \u001b[0mother\u001b[0m\u001b[1;33m.\u001b[0m\u001b[0mshape\u001b[0m\u001b[1;33m[\u001b[0m\u001b[1;36m0\u001b[0m\u001b[1;33m]\u001b[0m\u001b[1;33m:\u001b[0m\u001b[1;33m\u001b[0m\u001b[0m\n\u001b[1;32m--> 478\u001b[1;33m                 \u001b[1;32mraise\u001b[0m \u001b[0mValueError\u001b[0m\u001b[1;33m(\u001b[0m\u001b[1;34m'dimension mismatch'\u001b[0m\u001b[1;33m)\u001b[0m\u001b[1;33m\u001b[0m\u001b[0m\n\u001b[0m\u001b[0;32m    479\u001b[0m             \u001b[1;32mreturn\u001b[0m \u001b[0mself\u001b[0m\u001b[1;33m.\u001b[0m\u001b[0m_mul_sparse_matrix\u001b[0m\u001b[1;33m(\u001b[0m\u001b[0mother\u001b[0m\u001b[1;33m)\u001b[0m\u001b[1;33m\u001b[0m\u001b[0m\n\u001b[0;32m    480\u001b[0m \u001b[1;33m\u001b[0m\u001b[0m\n",
      "\u001b[1;31mValueError\u001b[0m: dimension mismatch"
     ]
    }
   ],
   "source": [
    "str_wires = [\"R8,U5,L5,D3\",\"U7,R6,D4,L4\"]\n",
    "# str_wires = [\"R75,D30,R83,U83,L12,D49,R71,U7,L72\",\"U62,R66,U55,R34,D71,R55,D58,R83\"]\n",
    "# str_wires = [\"R98,U47,R26,D63,R33,U87,L62,D20,R33,U53,R51\",\"U98,R91,D20,R16,D67,R40,U7,R15,U6,R7\"]\n",
    "\n",
    "def getMin(str_wires,size=100):\n",
    "    wires = [Wire(wire,size=size) for wire in str_wires]\n",
    "    max_size = max(wires[0].size,wires[1].size)\n",
    "    print(f\"Common max size: {max_size}\")\n",
    "    wires = [Wire(wire,size=max_size) for wire in str_wires]\n",
    "    print(wires[0])\n",
    "    return wires[0].getClosestIntersectionDist(wires[1])\n",
    "\n",
    "getMin(str_wires,20)"
   ]
  },
  {
   "cell_type": "code",
   "execution_count": null,
   "metadata": {},
   "outputs": [],
   "source": []
  },
  {
   "cell_type": "code",
   "execution_count": null,
   "metadata": {},
   "outputs": [],
   "source": []
  }
 ]
}
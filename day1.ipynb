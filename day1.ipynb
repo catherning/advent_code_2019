{
 "cells": [
  {
   "cell_type": "markdown",
   "metadata": {},
   "source": [
    "# Day 1: The Tyranny of the Rocket Equation"
   ]
  },
  {
   "cell_type": "code",
   "execution_count": 1,
   "metadata": {},
   "outputs": [],
   "source": [
    "import os\n",
    "import unittest"
   ]
  },
  {
   "cell_type": "code",
   "execution_count": 2,
   "metadata": {},
   "outputs": [],
   "source": [
    "filename = os.path.join(os.getcwd(),\"d1_input\")\n",
    "with open(filename) as f:\n",
    "    mass_inputs = [int(mass) for mass in f.readlines()]"
   ]
  },
  {
   "cell_type": "code",
   "execution_count": 3,
   "metadata": {},
   "outputs": [],
   "source": [
    "def requiredFuel(mass):\n",
    "    return mass // 3 -2\n",
    "\n",
    "def totalFuel(mass):\n",
    "    input_fuel = requiredFuel(mass)\n",
    "    f = requiredFuel(input_fuel)\n",
    "    total_fuel = input_fuel\n",
    "    while f>0:\n",
    "        total_fuel += f\n",
    "        f = requiredFuel(f)\n",
    "    return total_fuel\n",
    "\n",
    "def fuelSum(mass_inputs,callback):\n",
    "    return sum(map(callback,mass_inputs))"
   ]
  },
  {
   "cell_type": "code",
   "execution_count": 4,
   "metadata": {},
   "outputs": [
    {
     "data": {
      "text/plain": [
       "3405637"
      ]
     },
     "execution_count": 4,
     "metadata": {},
     "output_type": "execute_result"
    }
   ],
   "source": [
    "# Answer 1\n",
    "fuelSum(mass_inputs,requiredFuel)"
   ]
  },
  {
   "cell_type": "code",
   "execution_count": 5,
   "metadata": {},
   "outputs": [
    {
     "data": {
      "text/plain": [
       "5105597"
      ]
     },
     "execution_count": 5,
     "metadata": {},
     "output_type": "execute_result"
    }
   ],
   "source": [
    "# Answer 2\n",
    "fuelSum(mass_inputs,totalFuel)"
   ]
  },
  {
   "cell_type": "markdown",
   "metadata": {},
   "source": [
    "# Day 2: 1202 Program Alarm"
   ]
  },
  {
   "cell_type": "code",
   "execution_count": 54,
   "metadata": {},
   "outputs": [],
   "source": [
    "def run_program(intcode_program):\n",
    "    for i in range(0,len(intcode_program),4):\n",
    "        if intcode_program[i]==1:\n",
    "            intcode_program[intcode_program[i+3]] = intcode_program[intcode_program[i+1]] + intcode_program[intcode_program[i+2]]\n",
    "        elif intcode_program[i]==2:\n",
    "            intcode_program[intcode_program[i+3]] = intcode_program[intcode_program[i+1]] * intcode_program[intcode_program[i+2]]\n",
    "        elif intcode_program[i]==99:\n",
    "            break\n",
    "        else:\n",
    "            raise ValueError(f\"Something went wrong. Opcode is {intcode_program[i]} at index {i} for the current program {intcode_program}\")\n",
    "    return intcode_program\n"
   ]
  },
  {
   "cell_type": "code",
   "execution_count": 55,
   "metadata": {},
   "outputs": [
    {
     "name": "stderr",
     "output_type": "stream",
     "text": [
      ".\n",
      "----------------------------------------------------------------------\n",
      "Ran 1 test in 0.001s\n",
      "\n",
      "OK\n"
     ]
    },
    {
     "data": {
      "text/plain": [
       "<unittest.main.TestProgram at 0x1623aa79048>"
      ]
     },
     "execution_count": 55,
     "metadata": {},
     "output_type": "execute_result"
    }
   ],
   "source": [
    "class Test(unittest.TestCase):\n",
    "    def test(self):\n",
    "        self.states = [([1,9,10,3,2,3,11,0,99,30,40,50],[3500,9,10,70,2,3,11,0,99,30,40,50]),\n",
    "                ([1,0,0,0,99],[2,0,0,0,99]),\n",
    "                ([2,3,0,3,99],[2,3,0,6,99]),\n",
    "                ([2,4,4,5,99,0],[2,4,4,5,99,9801]),\n",
    "                ([1,1,1,4,99,5,6,0,99],[30,1,1,4,2,5,6,0,99])]\n",
    "        for (program,output) in self.states:\n",
    "            self.assertEqual(run_program(program),output)\n",
    "\n",
    "unittest.main(argv=['first-arg-is-ignored'], exit=False)"
   ]
  },
  {
   "cell_type": "code",
   "execution_count": 56,
   "metadata": {},
   "outputs": [
    {
     "data": {
      "text/plain": [
       "False"
      ]
     },
     "execution_count": 56,
     "metadata": {},
     "output_type": "execute_result"
    }
   ],
   "source": [
    "filename = os.path.join(os.getcwd(),\"d2_input\")\n",
    "with open(filename) as f:\n",
    "    initial_program = [int(opcode) for opcode in f.read().split(\",\")]\n",
    "    intcode_program = initial_program[:]\n",
    "intcode_program[1]=12\n",
    "intcode_program[2]=2\n",
    "\n",
    "# Answer 1\n",
    "run_program(intcode_program)[0]"
   ]
  },
  {
   "cell_type": "code",
   "execution_count": 58,
   "metadata": {},
   "outputs": [
    {
     "data": {
      "text/plain": [
       "(40, 19, 4019)"
      ]
     },
     "execution_count": 58,
     "metadata": {},
     "output_type": "execute_result"
    }
   ],
   "source": [
    "def findInput(init_program):\n",
    "    for noun in range(50):\n",
    "        for verb in range(50):\n",
    "            program = init_program[:]\n",
    "            program[1]=noun\n",
    "            program[2]=verb\n",
    "            if run_program(program)[0] == 19690720:\n",
    "                return noun,verb,100*noun+verb\n",
    "    \n",
    "    return None\n",
    "\n",
    "# Answer 2\n",
    "findInput(initial_program)"
   ]
  },
  {
   "cell_type": "markdown",
   "metadata": {},
   "source": [
    "# Day 3: Crossed Wires"
   ]
  },
  {
   "cell_type": "code",
   "execution_count": 2,
   "metadata": {},
   "outputs": [],
   "source": [
    "import scipy.sparse as sparse\n",
    "import numpy as np\n",
    "from copy import copy,deepcopy\n",
    "import math"
   ]
  },
  {
   "cell_type": "code",
   "execution_count": 3,
   "metadata": {},
   "outputs": [],
   "source": [
    "class Point:\n",
    "    def __init__(self,i,j):\n",
    "        self.i = i\n",
    "        self.j = j\n",
    "\n",
    "    def __str__(self):\n",
    "        return f\"Point({self.i},{self.j})\"\n",
    "\n",
    "    def manhattanDistance(self,other_point):\n",
    "        return abs(self.j-other_point.j)+abs(self.i-other_point.i)"
   ]
  },
  {
   "cell_type": "code",
   "execution_count": 259,
   "metadata": {},
   "outputs": [],
   "source": [
    "class Wire:\n",
    "    def __init__(self,string,size=20,center=None,fixed_size=False):\n",
    "        self.full_path = [(el[0],int(el[1:])) for el in string.replace(\"\\n\",\"\").split(\",\")]\n",
    "        self.flag_changed = False\n",
    "        self.create_path(size=size,fixed_size=fixed_size,center=center)\n",
    "\n",
    "    def create_path(self,limit_try=10,size=None,center=None,fixed_size=False):\n",
    "        def fill_mat():\n",
    "            self.central_port = Point(self.size//2,self.size//2)\n",
    "            if center:\n",
    "                self.central_port = center\n",
    "                self.size = size\n",
    "                row = [self.central_port.i]\n",
    "                col = [self.central_port.j]\n",
    "            else:\n",
    "                row = [self.size//2]\n",
    "                col = [self.size//2]\n",
    "                \n",
    "            current_point = copy(self.central_port)\n",
    "            \n",
    "            for (direction,nb_steps) in self.full_path:\n",
    "                if direction==\"U\":\n",
    "                    t_row = [i for i in range(current_point.i-1,current_point.i-nb_steps-1,-1)]\n",
    "                    row += t_row\n",
    "                    col +=[current_point.j]*len(t_row)\n",
    "                    current_point.i-=nb_steps\n",
    "                elif direction==\"D\":\n",
    "                    t_row = [i for i in range(current_point.i+1,current_point.i+nb_steps+1)]\n",
    "                    row += t_row\n",
    "                    col +=[current_point.j]*len(t_row)\n",
    "                    current_point.i+=nb_steps\n",
    "                elif direction==\"L\":\n",
    "                    t_col = [i for i in range(current_point.j-1,current_point.j-nb_steps-1,-1)]\n",
    "                    col += t_col\n",
    "                    row +=[current_point.i]*len(t_col)                    \n",
    "                    current_point.j-=nb_steps            \n",
    "                elif direction==\"R\":\n",
    "                    t_col = [i for i in range(current_point.j+1,current_point.j+nb_steps+1)]\n",
    "                    col += t_col\n",
    "                    row +=[current_point.i]*len(t_col)                       \n",
    "                    current_point.j+=nb_steps\n",
    "            \n",
    "            self.row_id = row\n",
    "            self.col_id = col\n",
    "            val = [1]*len(row)\n",
    "            val[0]=0.5\n",
    "            if not fixed_size:\n",
    "                self.size = max(max(row),max(col),size)+1\n",
    "            self.sparse = sparse.coo_matrix((val,(row,col)),shape=(self.size,self.size)).todok().tocsc()\n",
    "        \n",
    "        \n",
    "        if size is not None:\n",
    "            self.size = size\n",
    "        count_try = 0\n",
    "        while count_try<limit_try:\n",
    "            try:\n",
    "                fill_mat()\n",
    "                print(f\"Wire path created of size {self.size}\")\n",
    "                count_try = limit_try\n",
    "            except ValueError as e:\n",
    "                self.size = int(self.size*1.5)\n",
    "                self.flag_changed = True\n",
    "        if count_try >limit_try:\n",
    "            raise IndexError(\"Couldn't create wire path, the matrix was too small\")\n",
    "        \n",
    "    def wiresCross(self,other_wire):\n",
    "        self.intersections = self.sparse.multiply(other_wire.sparse)\n",
    "        return self.intersections\n",
    "    \n",
    "    def getIntersectCoord(self,other_wire=None,intersect_coord=None):\n",
    "        if other_wire:\n",
    "            self.wiresCross(other_wire)\n",
    "            self.intersec_coord = coord = np.argwhere(self.intersections>=1)\n",
    "        elif intersect_coord:\n",
    "            self.intersec_coord = intersect_coord\n",
    "\n",
    "    def getClosestIntersectionDist(self,other_wire):\n",
    "        min_dist = math.inf\n",
    "        self.getIntersectCoord(other_wire=other_wire)\n",
    "        coord = self.intersec_coord\n",
    "        for i in range(len(coord)):\n",
    "            dist = self.central_port.manhattanDistance(Point(coord[i,0],coord[i,1]))\n",
    "            if min_dist>dist:\n",
    "                min_dist = dist\n",
    "        return min_dist\n",
    "    \n",
    "    def isIntersect(self,coord,intersect_array):\n",
    "        for idx,point in enumerate(intersect_array):\n",
    "            if coord[0]==point[0] and coord[1]==point[1]:\n",
    "                return True,idx\n",
    "        return False,None\n",
    "    \n",
    "    def signalAtIntersect(self,other_wire=None,intersect_coord=None):\n",
    "        self.getIntersectCoord(other_wire=other_wire,intersect_coord=intersect_coord)\n",
    "        self.intersect_length=[None]*len(self.intersec_coord)\n",
    "        for idx,(i,j) in enumerate(zip(self.row_id,self.col_id)):\n",
    "            is_intersect,coord=self.isIntersect((i,j),self.intersec_coord)\n",
    "            if is_intersect:\n",
    "                self.intersect_length[coord]=idx\n",
    "                \n",
    "    def minSignalDelay(self,other_wire):\n",
    "        return min(np.add(self.intersect_length, other_wire.intersect_length))\n",
    "    \n",
    "    def __str__(self):\n",
    "        return str(self.sparse)"
   ]
  },
  {
   "cell_type": "code",
   "execution_count": 260,
   "metadata": {},
   "outputs": [],
   "source": [
    "filename = os.path.join(os.getcwd(),\"d3_input\")\n",
    "wires = []\n",
    "with open(filename) as f:\n",
    "    str_wires = f.read().splitlines()"
   ]
  },
  {
   "cell_type": "code",
   "execution_count": 261,
   "metadata": {},
   "outputs": [],
   "source": [
    "def getMin(str_wires,size=100,center=None):\n",
    "    wires = [Wire(wire,size=size,center=center) for wire in str_wires]\n",
    "    \n",
    "    while wires[0].flag_changed or wires[1].flag_changed:\n",
    "        max_size = max(wires[0].size,wires[1].size)\n",
    "        print(f\"Common max size: {max_size}\")\n",
    "        wires = [Wire(wire,size=max_size,fixed_size=True) for wire in str_wires]\n",
    "\n",
    "    return wires,wires[0].getClosestIntersectionDist(wires[1])"
   ]
  },
  {
   "cell_type": "code",
   "execution_count": 262,
   "metadata": {},
   "outputs": [
    {
     "name": "stdout",
     "output_type": "stream",
     "text": [
      "Wire path created of size 318\n",
      "Wire path created of size 301\n",
      "Common max size: 318\n",
      "Wire path created of size 477\n",
      "Wire path created of size 477\n",
      "Common max size: 477\n",
      "Wire path created of size 477\n",
      "Wire path created of size 477\n",
      "135\n"
     ]
    }
   ],
   "source": [
    "# Q1\n",
    "str_wires = [\"R8,U5,L5,D3\",\"U7,R6,D4,L4\"] # sol= 6, q2:30\n",
    "# center = Point(8,1)\n",
    "str_wires = [\"R75,D30,R83,U83,L12,D49,R71,U7,L72\",\"U62,R66,U55,R34,D71,R55,D58,R83\"] # sol= 159, q2:610\n",
    "center=None\n",
    "str_wires = [\"R98,U47,R26,D63,R33,U87,L62,D20,R33,U53,R51\",\"U98,R91,D20,R16,D67,R40,U7,R15,U6,R7\"] # sol= 135, q2:410\n",
    "# str_wires = [\"R4,U3,R1,D1,L6,U3,R2,D6,L2,D1,R4,U3,R4\",\"U3,R3,U1,R2,D4,R1,U6,L4,D5,L4,D4,R3,U2,R3\"]\n",
    "# center = Point(7,3)\n",
    "\n",
    "wires,sol=getMin(str_wires,10,center=center)\n",
    "# print(wires[0])\n",
    "print(sol)"
   ]
  },
  {
   "cell_type": "code",
   "execution_count": 263,
   "metadata": {},
   "outputs": [
    {
     "data": {
      "text/plain": [
       "410"
      ]
     },
     "execution_count": 263,
     "metadata": {},
     "output_type": "execute_result"
    }
   ],
   "source": [
    "#Q2\n",
    "wires[0].signalAtIntersect()\n",
    "wires[1].signalAtIntersect(other_wire=wires[0])\n",
    "wires[0].minSignalDelay(wires[1])"
   ]
  },
  {
   "cell_type": "markdown",
   "metadata": {},
   "source": [
    "# Day 4: Secure Container"
   ]
  },
  {
   "cell_type": "code",
   "execution_count": 40,
   "metadata": {},
   "outputs": [],
   "source": [
    "from collections import Counter"
   ]
  },
  {
   "cell_type": "code",
   "execution_count": 41,
   "metadata": {},
   "outputs": [],
   "source": [
    "d4_input = \"264360-746325\"\n",
    "[min_val,max_val] = [int(val) for val in d4_input.split(\"-\")]"
   ]
  },
  {
   "cell_type": "code",
   "execution_count": 64,
   "metadata": {},
   "outputs": [],
   "source": [
    "def valid_code(value):\n",
    "    str_val = str(value)\n",
    "    prec_digit = str_val[0]\n",
    "    for digit in str_val[1:]:\n",
    "        if digit<prec_digit:\n",
    "            return False\n",
    "        prec_digit = digit\n",
    "\n",
    "    c = Counter(str_val)\n",
    "    if max(c.values())>=2:\n",
    "        return True\n",
    "    else:\n",
    "        return False"
   ]
  },
  {
   "cell_type": "code",
   "execution_count": 65,
   "metadata": {},
   "outputs": [
    {
     "name": "stdout",
     "output_type": "stream",
     "text": [
      "True\n",
      "True\n",
      "True\n",
      "True\n",
      "True\n",
      "True\n"
     ]
    }
   ],
   "source": [
    "# Simple test\n",
    "code_test = [122345,111123,135679,111111,223450,123789]\n",
    "res = [True,True,False,True,False,False]\n",
    "for code,r in zip(code_test,res):\n",
    "    print(valid_code(code)==r)"
   ]
  },
  {
   "cell_type": "code",
   "execution_count": 66,
   "metadata": {},
   "outputs": [
    {
     "name": "stdout",
     "output_type": "stream",
     "text": [
      "945\n"
     ]
    }
   ],
   "source": [
    "count=0\n",
    "for val in range(min_val,max_val):\n",
    "    if valid_code(val):\n",
    "        count+=1\n",
    "print(count)"
   ]
  },
  {
   "cell_type": "code",
   "execution_count": 67,
   "metadata": {},
   "outputs": [],
   "source": [
    "# Part 2\n",
    "\n",
    "def valid_code2(value):\n",
    "    str_val = str(value)\n",
    "    prec_digit = str_val[0]\n",
    "    \n",
    "    for digit in str_val[1:]:\n",
    "        if digit<prec_digit:\n",
    "            return False\n",
    "        prec_digit = digit\n",
    "\n",
    "    c = Counter(str_val)\n",
    "    if 2 not in c.values():\n",
    "        return False\n",
    "    else:\n",
    "        return True\n"
   ]
  },
  {
   "cell_type": "code",
   "execution_count": 68,
   "metadata": {},
   "outputs": [
    {
     "name": "stdout",
     "output_type": "stream",
     "text": [
      "True\n",
      "True\n",
      "True\n",
      "True\n",
      "True\n",
      "True\n",
      "True\n",
      "True\n",
      "True\n"
     ]
    }
   ],
   "source": [
    "# Simple test\n",
    "code_test = [122345,111123,135679,111111,223450,123789,112233,123444,111122]\n",
    "res = [True,False,False,False,False,False,True,False,True]\n",
    "for code,r in zip(code_test,res):\n",
    "    print(valid_code2(code)==r)"
   ]
  },
  {
   "cell_type": "code",
   "execution_count": 69,
   "metadata": {},
   "outputs": [
    {
     "name": "stdout",
     "output_type": "stream",
     "text": [
      "617\n"
     ]
    }
   ],
   "source": [
    "count=0\n",
    "for val in range(min_val,max_val):\n",
    "    if valid_code2(val):\n",
    "        count+=1\n",
    "print(count)"
   ]
  }
 ],
 "metadata": {
  "file_extension": ".py",
  "kernelspec": {
   "display_name": "Python 3",
   "language": "python",
   "name": "python3"
  },
  "language_info": {
   "codemirror_mode": {
    "name": "ipython",
    "version": 3
   },
   "file_extension": ".py",
   "mimetype": "text/x-python",
   "name": "python",
   "nbconvert_exporter": "python",
   "pygments_lexer": "ipython3",
   "version": "3.6.5"
  },
  "mimetype": "text/x-python",
  "name": "python",
  "npconvert_exporter": "python",
  "pygments_lexer": "ipython3",
  "version": 3
 },
 "nbformat": 4,
 "nbformat_minor": 2
}
